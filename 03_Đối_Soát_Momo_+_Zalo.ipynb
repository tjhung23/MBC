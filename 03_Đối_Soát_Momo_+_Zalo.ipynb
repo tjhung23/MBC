{
  "cells": [
    {
      "cell_type": "markdown",
      "metadata": {
        "id": "view-in-github",
        "colab_type": "text"
      },
      "source": [
        "<a href=\"https://colab.research.google.com/github/tjhung23/MBC/blob/main/03_%C4%90%E1%BB%91i_So%C3%A1t_Momo_%2B_Zalo.ipynb\" target=\"_parent\"><img src=\"https://colab.research.google.com/assets/colab-badge.svg\" alt=\"Open In Colab\"/></a>"
      ]
    },
    {
      "cell_type": "code",
      "execution_count": null,
      "metadata": {
        "colab": {
          "base_uri": "https://localhost:8080/"
        },
        "id": "SQUk-F4eA1Nm",
        "outputId": "d52da4e3-72c6-40c4-e7f6-63abc8dcff6d"
      },
      "outputs": [
        {
          "output_type": "stream",
          "name": "stdout",
          "text": [
            "Drive already mounted at /content/drive; to attempt to forcibly remount, call drive.mount(\"/content/drive\", force_remount=True).\n"
          ]
        }
      ],
      "source": [
        "\n",
        "from google.colab import drive\n",
        "drive.mount('/content/drive')\n"
      ]
    },
    {
      "cell_type": "code",
      "source": [
        "!pip install xlsxwriter"
      ],
      "metadata": {
        "colab": {
          "base_uri": "https://localhost:8080/"
        },
        "id": "A8bs311oBm2O",
        "outputId": "2a51d6e9-7eda-45dc-bf80-c2acdbd3f17a"
      },
      "execution_count": null,
      "outputs": [
        {
          "output_type": "stream",
          "name": "stdout",
          "text": [
            "Requirement already satisfied: xlsxwriter in /usr/local/lib/python3.11/dist-packages (3.2.5)\n"
          ]
        }
      ]
    },
    {
      "cell_type": "code",
      "source": [
        "\n",
        "import glob\n",
        "import os\n",
        "import pandas as pd\n",
        "import numpy as np\n",
        "import csv\n",
        "from datetime import datetime\n",
        "import getpass\n",
        "import pytz\n",
        "import time\n",
        "# --------------------------------------------------------------------------------------------------------------------------\n",
        "vn_tz = pytz.timezone('Asia/Ho_Chi_Minh')\n",
        "now = datetime.now(vn_tz)\n",
        "\n",
        "\n",
        "user = getpass.getuser()\n",
        "df_chiet_khau = pd.DataFrame({\n",
        "    'Chiết khấu tạm tính xuất hóa đơn': ['D5M', 'D15M', 'D30M', 'WIN69XM', 'WIN89XM'],\n",
        "    'Chiết khấu mức dưới 1.3 tỷ': [20, 20, 20, 15, 15],\n",
        "    'Loại': ['Ngày', 'Ngày', 'Ngày', 'Tháng', 'Tháng'],\n",
        "    'Đơn giá bao gồm VAT': [5000, 15000, 30000, 69000, 89000]\n",
        "})\n",
        "#---------------------------------------------------------------------------------------------------------------------------\n",
        "xlpath = '/content/drive/My Drive/KeToan_HachToanGiaoDich/Momo/'\n",
        "result = glob.glob(xlpath + \"*.*\")\n",
        "for filename in result:\n",
        "  # try:\n",
        "    if filename.endswith((\".xlsx\", \".xls\")):\n",
        "      df = pd.read_excel(filename, dtype=str)\n",
        "#---------------------------------------------------------------------------------------------------------------------------\n",
        "      #DWH_doi soat CTT\n",
        "\n",
        "      if df.columns[0] == 'Kênh':\n",
        "        dwh = df.copy()\n",
        "        dwh['Ngày thanh toán'] =dwh['Ngày thanh toán'].astype(str).str.split(\" \").str[0]\n",
        "        dwh[['Year', 'Month', 'Day']] = dwh['Ngày thanh toán'].str.split('-', expand=True)\n",
        "        dwh['Ngày thanh toán'] = dwh['Day'] + '-' + dwh['Month'] + '-' + dwh['Year']\n",
        "        dwh = dwh.drop(['Year','Day'], axis=1)\n",
        "        dwh = dwh.rename(columns={'Month': 'Tháng thanh toán'})\n",
        "        cols = ['Giá gói','Giảm giá gói','Tổng tiền thanh toán']\n",
        "        dwh[cols] = dwh[cols].apply(pd.to_numeric, errors='coerce').fillna(0).astype(int)\n",
        "\n",
        "        # Tạo mapping dictionary từ df_chiet_khau\n",
        "        goi_to_loai = df_chiet_khau.set_index('Chiết khấu tạm tính xuất hóa đơn')['Loại'].to_dict()\n",
        "\n",
        "\n",
        "        goi_to_ngay = df_chiet_khau.set_index('Chiết khấu tạm tính xuất hóa đơn')['Chiết khấu mức dưới 1.3 tỷ'].to_dict()\n",
        "\n",
        "        # Map vào dwh để tạo cột 'Loại'\n",
        "        dwh['Loại GC'] = dwh['Gói cước'].map(goi_to_loai)\n",
        "\n",
        "        dwh['Giá gói chưa VAT'] = dwh['Tổng tiền thanh toán']/1.1\n",
        "\n",
        "        dwh['Mức chiết khấu dưới 1.3 tỷ'] = dwh['Gói cước'].map(goi_to_ngay)\n",
        "\n",
        "        dwh['Ngày thanh toán'] = dwh['Ngày thanh toán'].astype(str).str.split(\" \").str[0]\n",
        "\n",
        "        dwh['Ngày thanh toán'] = pd.to_datetime(dwh['Ngày thanh toán'], dayfirst=True, errors='coerce')\n",
        "\n",
        "        # Tạo cột 'Ngày hạch toán' = Ngày thanh toán + 1 ngày\n",
        "        dwh['Ngày hạch toán'] = dwh['Ngày thanh toán'] + pd.Timedelta(days=1)\n",
        "\n",
        "        dwh['Tháng hạch toán'] = dwh['Ngày hạch toán'].dt.month\n",
        "      if df.columns[0] == 'Mã kênh':\n",
        "        dwh_bhdl = df.copy()\n",
        "        dwh_bhdl = dwh_bhdl[dwh_bhdl['Tên kênh'].isin(['Momo Etopup'])]\n",
        "        cols_to_convert = ['Giá gói', 'Giá sim', 'Phí vận chuyển','Giá kit']  # thay bằng danh sách cột bạn muốn chuyển\n",
        "\n",
        "        dwh_bhdl[cols_to_convert] = dwh_bhdl[cols_to_convert].apply(pd.to_numeric, errors='coerce')\n",
        "\n",
        "        dwh_bhdl = dwh_bhdl[dwh_bhdl['Tên kênh'].isin(['Momo Etopup'])]\n",
        "        dwh_bhdl = dwh_bhdl[dwh_bhdl['Loại số'].isin(['Số thường', 'Số đẹp'])]\n",
        "        dwh_bhdl['Giá gói chưa VAT'] = dwh_bhdl['Giá gói']/1.1\n",
        "        dwh_bhdl['Giá HM chưa VAT'] = np.where(dwh_bhdl['Giá sim'] <25000, dwh_bhdl['Giá sim']/1.1, 25000/1.1)\n",
        "        dwh_bhdl['Giá sim chưa VAT'] = np.where(dwh_bhdl['Giá sim'] <25000, 0, 25000/1.1)\n",
        "        dwh_bhdl['Phí ship chưa VAT'] = (dwh_bhdl['Phí vận chuyển']/1.1)\n",
        "        dwh_bhdl['Chiết khấu bộ kit'] = 20000/1.1\n",
        "        dwh_bhdl['Chiết khấu gói cước'] = 10000/1.1\n",
        "        # dwh_bhdl['Ngày tạo đơn'] = dwh_bhdl['Ngày tạo đơn'].astype(str).str.split(\" \").str[0]\n",
        "\n",
        "        # dwh_bhdl['Ngày tạo đơn'] = pd.to_datetime(dwh_bhdl['Ngày tạo đơn'], dayfirst=True, errors='coerce')\n",
        "\n",
        "\n"
      ],
      "metadata": {
        "id": "0A_j87gIEITO"
      },
      "execution_count": null,
      "outputs": []
    },
    {
      "cell_type": "code",
      "source": [
        "# Tạo cột \"Tiền gói - Data\" nếu \"Gói cước\" bắt đầu bằng \"D\"\n",
        "dwh['Tiền gói - Data'] = np.where(dwh['Gói cước'].str.startswith('D'), dwh['Giá gói chưa VAT'], 0)\n",
        "\n",
        "# Tạo cột \"Tiền gói - Combo 1 tháng\" nếu \"Gói cước\" bắt đầu bằng \"W\"\n",
        "dwh['Tiền gói - Combo 1 tháng'] = np.where(dwh['Gói cước'].str.startswith('W'), dwh['Giá gói chưa VAT'], 0)\n",
        "dwh['SDT'] = dwh['SDT mua']\n",
        "dwh['Ngày thanh toán'] = dwh['Ngày thanh toán'].astype(str).str.split(\" \").str[0]\n",
        "dwh['Date'] = dwh['Ngày thanh toán']"
      ],
      "metadata": {
        "id": "P0ptn-Gprvik"
      },
      "execution_count": null,
      "outputs": []
    },
    {
      "cell_type": "code",
      "source": [
        "dwh_bhdl['Tiền gói - Combo 1 tháng'] = dwh_bhdl['Giá gói chưa VAT']\n",
        "dwh_bhdl['Tiền gói - Data'] = 0\n",
        "dwh_bhdl['SDT'] = dwh_bhdl['SĐT đặt']\n",
        "dwh_bhdl['Ngày tạo đơn'] = dwh_bhdl['Ngày tạo đơn'].astype(str).str.split(\" \").str[0]\n",
        "dwh_bhdl['Date'] = dwh_bhdl['Ngày tạo đơn']\n",
        "#  dwh_bhdl['Ngày tạo đơn'] = pd.to_datetime(dwh_bhdl['Ngày tạo đơn'], dayfirst=True, errors='coerce')\n",
        "dwh_bhdl['Gói cước'] = dwh_bhdl['Tên gói']"
      ],
      "metadata": {
        "id": "lDl3ZSn6t22l"
      },
      "execution_count": null,
      "outputs": []
    },
    {
      "cell_type": "code",
      "source": [
        "# dwh_bhdl['Ngày tạo đơn'].unique()"
      ],
      "metadata": {
        "id": "NoS1no-ghQ-5"
      },
      "execution_count": null,
      "outputs": []
    },
    {
      "cell_type": "code",
      "source": [
        "MOMO_MISA = dwh.groupby(['Ngày thanh toán', 'Gói cước']).agg(\n",
        "    So_luong=('Gói cước', 'count'),                     # Đếm số dòng theo từng gói\n",
        "    Tong_tien_thanh_toan=('Tổng tiền thanh toán', 'sum') # Tổng tiền thanh toán\n",
        ").reset_index()\n",
        "# MOMO_MISA['đ'] = dwh['Gói cước'].map(goi_to_loai)\n",
        "MOMO_MISA['Tỷ lệ CK'] = MOMO_MISA['Gói cước'].map(goi_to_ngay)\n",
        "MOMO_MISA = MOMO_MISA[MOMO_MISA['Gói cước'].isin(['D5M', 'D15M', 'D30M', 'WIN69XM', 'WIN89XM'])]\n",
        "MOMO_MISA['Tiền chiết khấu'] = MOMO_MISA['Tong_tien_thanh_toan'] * MOMO_MISA['Tỷ lệ CK'] / 100\n",
        "MOMO_MISA['Sau chiết Khấu'] = MOMO_MISA['Tong_tien_thanh_toan'] - MOMO_MISA['Tiền chiết khấu']\n",
        "MOMO_MISA['Tiền CK/VAT'] = MOMO_MISA['Tiền chiết khấu'] / 1.1\n",
        "MOMO_MISA['Thuế'] = (MOMO_MISA['Tong_tien_thanh_toan']/1.1 - MOMO_MISA['Tiền CK/VAT']) * 0.1\n",
        "MOMO_MISA = MOMO_MISA.rename(columns={'So_luong': 'Số Lượng', 'Tong_tien_thanh_toan': 'Thành tiền'})\n",
        "MOMO_MISA['Thành tiền/VAT'] = MOMO_MISA['Thành tiền'] / 1.1\n",
        "MOMO_MISA = MOMO_MISA.groupby([\"Ngày thanh toán\",\"Gói cước\"]).sum(numeric_only=True).reset_index()"
      ],
      "metadata": {
        "id": "ZykFSUTfeJfr"
      },
      "execution_count": null,
      "outputs": []
    },
    {
      "cell_type": "code",
      "source": [
        "# Các cột giữ nguyên\n",
        "id_vars = ['Ngày thanh toán', 'Gói cước','Số Lượng']\n",
        "\n",
        "# Các cột muốn melt\n",
        "value_vars = ['Thành tiền', 'Tiền chiết khấu', 'Thành tiền/VAT']\n",
        "\n",
        "# Thực hiện melt\n",
        "MOMO_MISA_melt = MOMO_MISA.melt(\n",
        "    id_vars=id_vars,\n",
        "    value_vars=value_vars,\n",
        "    var_name='Type',\n",
        "    value_name='Amount'\n",
        ")\n"
      ],
      "metadata": {
        "id": "QHK7Cq6fzTu1"
      },
      "execution_count": null,
      "outputs": []
    },
    {
      "cell_type": "code",
      "source": [
        "MOMO_MISA_melt['Tài Khoản'] = np.where(MOMO_MISA_melt['Type'] == 'Thành tiền', '338731',\n",
        "                                       np.where(MOMO_MISA_melt['Type'] == 'Tiền chiết khấu','52113',\n",
        "                                       np.where(MOMO_MISA_melt['Type'] == 'Thành tiền/VAT','33311',\"\")))\n"
      ],
      "metadata": {
        "id": "DuWCGRDR-h2p"
      },
      "execution_count": null,
      "outputs": []
    },
    {
      "cell_type": "code",
      "source": [
        "ZALO_MISA = dwh.groupby(['Ngày thanh toán', 'Gói cước','Giá gói']).agg(\n",
        "    So_luong=('Gói cước', 'count'),                     # Đếm số dòng theo từng gói\n",
        "    Tong_tien_thanh_toan=('Tổng tiền thanh toán', 'sum') # Tổng tiền thanh toán\n",
        ").reset_index()\n",
        "# ZALO_MISA['đ'] = dwh['Gói cước'].map(goi_to_loai)\n",
        "ZALO_MISA['Tỷ lệ CK'] = ZALO_MISA['Gói cước'].map(goi_to_ngay)\n",
        "ZALO_MISA = ZALO_MISA[ZALO_MISA['Gói cước'].isin(['D5Z', 'D15Z', 'D30Z'])]\n",
        "ZALO_MISA['Tiền chiết khấu'] = ZALO_MISA['Tong_tien_thanh_toan'] * ZALO_MISA['Tỷ lệ CK'] / 100\n",
        "ZALO_MISA['Sau chiết Khấu'] = ZALO_MISA['Tong_tien_thanh_toan'] - ZALO_MISA['Tiền chiết khấu']\n",
        "ZALO_MISA['Tiền CK/VAT'] = ZALO_MISA['Tiền chiết khấu'] / 1.1\n",
        "ZALO_MISA['Thuế'] = (ZALO_MISA['Tong_tien_thanh_toan']/1.1 - ZALO_MISA['Tiền CK/VAT']) * 0.1\n",
        "ZALO_MISA = ZALO_MISA.rename(columns={'So_luong': 'Số Lượng', 'Tong_tien_thanh_toan': 'Thành tiền'})\n",
        "ZALO_MISA['Thành tiền/VAT'] = ZALO_MISA['Thành tiền'] / 1.1"
      ],
      "metadata": {
        "id": "phmQkqrgTAIE"
      },
      "execution_count": null,
      "outputs": []
    },
    {
      "cell_type": "code",
      "source": [
        "# Các cột giữ nguyên\n",
        "id_vars = ['Ngày thanh toán', 'Gói cước','Số Lượng']\n",
        "\n",
        "# Các cột muốn melt\n",
        "value_vars = ['Thành tiền', 'Tiền chiết khấu', 'Thành tiền/VAT']\n",
        "\n",
        "# Thực hiện melt\n",
        "ZALO_MISA_melt = ZALO_MISA.melt(\n",
        "    id_vars=id_vars,\n",
        "    value_vars=value_vars,\n",
        "    var_name='Type',\n",
        "    value_name='Amount'\n",
        ")\n"
      ],
      "metadata": {
        "id": "Y-4UksgDfQ_Y"
      },
      "execution_count": null,
      "outputs": []
    },
    {
      "cell_type": "code",
      "source": [
        "ZALO_MISA_melt['Tài Khoản'] = np.where(ZALO_MISA_melt['Type'] == 'Thành tiền', '338731',\n",
        "                                       np.where(ZALO_MISA_melt['Type'] == 'Tiền chiết khấu','52113',\n",
        "                                       np.where(ZALO_MISA_melt['Type'] == 'Thành tiền/VAT','33311',\"\")))"
      ],
      "metadata": {
        "id": "ZgVYucoXfh5V"
      },
      "execution_count": null,
      "outputs": []
    },
    {
      "cell_type": "code",
      "source": [
        "MOMO_sothuong = dwh_bhdl[dwh_bhdl['Loại số'] == 'Số thường'].copy()\n",
        "MOMO_sothuong = MOMO_sothuong.fillna(0)  # Xử lý NaN nếu cần\n",
        "MOMO_sothuong = MOMO_sothuong.groupby(['Ngày tạo đơn', 'Loại sim (order)', 'Tên gói']).agg({\n",
        "    'Loại sim (order)': 'count',  # Đếm số lượng\n",
        "    'Giá kit': 'sum',\n",
        "    'Giá gói': 'sum',\n",
        "    'Giá sim': 'sum',\n",
        "    'Phí vận chuyển': 'sum',\n",
        "    'Giá HM chưa VAT': 'sum',\n",
        "    'Giá sim chưa VAT': 'sum',\n",
        "    'Phí ship chưa VAT': 'sum',\n",
        "    'Giá gói chưa VAT': 'sum'\n",
        "}).rename(columns={'Loại sim (order)': 'Số lượng'}).reset_index()"
      ],
      "metadata": {
        "id": "Fbv4W8KTU8jU"
      },
      "execution_count": null,
      "outputs": []
    },
    {
      "cell_type": "code",
      "source": [
        "# Thực hiện melt\n",
        "MOMO_sothuong_melt = MOMO_sothuong.melt(\n",
        "    id_vars=[\"Ngày tạo đơn\",\"Loại sim (order)\",\"Tên gói\",\"Số lượng\"],\n",
        "    value_vars=['Giá HM chưa VAT', 'Giá sim chưa VAT', 'Phí ship chưa VAT', 'Giá gói chưa VAT'],\n",
        "    var_name='Type',\n",
        "    value_name='Amount'\n",
        ")\n",
        "MOMO_sothuong_melt['Amount'] = MOMO_sothuong_melt['Amount'].fillna(0).astype(int)\n",
        "MOMO_sothuong_melt = MOMO_sothuong_melt.loc[MOMO_sothuong_melt['Amount'] != 0]"
      ],
      "metadata": {
        "id": "FJCb-xtnCTUw"
      },
      "execution_count": null,
      "outputs": []
    },
    {
      "cell_type": "code",
      "source": [
        "MOMO_sothuong_melt['Tài khoản'] = np.where(MOMO_sothuong_melt['Type'] == 'Phí ship chưa VAT', '33875',\n",
        "                                      np.where(MOMO_sothuong_melt['Type'] == 'Giá HM chưa VAT','338712',\n",
        "                                      np.where(MOMO_sothuong_melt['Type'] == 'Giá sim chưa VAT','338711',\n",
        "                                      np.where(MOMO_sothuong_melt['Type'] == 'Giá gói chưa VAT','3387241',\"\"))))"
      ],
      "metadata": {
        "id": "B00ftW-aXoLn"
      },
      "execution_count": null,
      "outputs": []
    },
    {
      "cell_type": "code",
      "source": [
        "MOMO_sodep = dwh_bhdl[dwh_bhdl['Loại số'] == 'Số đẹp'].copy()\n",
        "MOMO_sodep = MOMO_sodep.fillna(0)  # Xử lý NaN nếu cần\n",
        "MOMO_sodep = MOMO_sodep.groupby(['Ngày tạo đơn', 'Loại sim (order)', 'Tên gói']).agg({\n",
        "    'Loại sim (order)': 'count',  # Đếm số lượng\n",
        "    'Giá kit': 'sum',\n",
        "    'Giá gói': 'sum',\n",
        "    'Giá sim': 'sum',\n",
        "    'Phí vận chuyển': 'sum',\n",
        "    'Giá HM chưa VAT': 'sum',\n",
        "    'Giá sim chưa VAT': 'sum',\n",
        "    'Phí ship chưa VAT': 'sum',\n",
        "    'Giá gói chưa VAT': 'sum',\n",
        "    'Chiết khấu bộ kit': 'sum',\n",
        "    'Chiết khấu gói cước': 'sum'\n",
        "}).rename(columns={'Loại sim (order)': 'Số lượng'}).reset_index()"
      ],
      "metadata": {
        "id": "HaA-yk1amRd-"
      },
      "execution_count": null,
      "outputs": []
    },
    {
      "cell_type": "code",
      "source": [
        "# Thực hiện melt\n",
        "MOMO_sodep_melt = MOMO_sodep.melt(\n",
        "    id_vars=[\"Ngày tạo đơn\",\"Loại sim (order)\",\"Tên gói\",\"Số lượng\"],\n",
        "    value_vars=['Giá HM chưa VAT', 'Giá sim chưa VAT', 'Phí ship chưa VAT', 'Giá gói chưa VAT','Chiết khấu bộ kit','Chiết khấu gói cước'],\n",
        "    var_name='Type',\n",
        "    value_name='Amount'\n",
        ")\n",
        "MOMO_sodep_melt['Amount'] = MOMO_sodep_melt['Amount'].fillna(0).astype(int)\n",
        "MOMO_sodep_melt = MOMO_sodep_melt.loc[MOMO_sodep_melt['Amount'] != 0]"
      ],
      "metadata": {
        "id": "Ld1ebrLpECTe"
      },
      "execution_count": null,
      "outputs": []
    },
    {
      "cell_type": "code",
      "source": [
        "MOMO_sodep_melt['Tài khoản'] = np.where(MOMO_sodep_melt['Type'] == 'Phí ship chưa VAT', '33875',\n",
        "                                      np.where(MOMO_sodep_melt['Type'] == 'Giá HM chưa VAT','338712',\n",
        "                                      np.where(MOMO_sodep_melt['Type'] == 'Giá sim chưa VAT','338711',\n",
        "                                      np.where(MOMO_sodep_melt['Type'] == 'Giá gói chưa VAT','3387241',\n",
        "                                      np.where(MOMO_sodep_melt['Type'] == 'Chiết khấu bộ kit','521111',\n",
        "                                      np.where(MOMO_sodep_melt['Type'] == 'Chiết khấu gói cước', '52113',\"\"))))))"
      ],
      "metadata": {
        "id": "foqxgvV4U4VL"
      },
      "execution_count": null,
      "outputs": []
    },
    {
      "cell_type": "code",
      "source": [
        "MOMO_banso = pd.concat([MOMO_sothuong_melt, MOMO_sodep_melt])\n",
        "# MOMO_banso"
      ],
      "metadata": {
        "id": "fbx2T_0ea1Nd"
      },
      "execution_count": null,
      "outputs": []
    },
    {
      "cell_type": "code",
      "source": [
        "# Tạo timestamp\n",
        "timestamp = now.strftime(\"%Y-%m-%d_%H-%M\")\n",
        "with pd.ExcelWriter(f'/content/drive/My Drive/Hung/test/Doi Soat MOMO - {timestamp}.xlsx', engine='xlsxwriter') as writer:\n",
        "    dwh.to_excel(writer, sheet_name='DWH', index=False)\n",
        "    dwh_bhdl.to_excel(writer, sheet_name='DWH_bhdl', index=False)\n",
        "    MOMO_MISA.to_excel(writer, sheet_name='MOMO_Bán gói', index=False)\n",
        "    # MOMO_MISA2.to_excel(writer, sheet_name='MOMO_MISA', index=False)\n",
        "    MOMO_sothuong.to_excel(writer, sheet_name='MOMO_Số thường', index=False)\n",
        "    MOMO_sodep.to_excel(writer, sheet_name='MOMO_Số đẹp', index=False)\n",
        "    ZALO_MISA.to_excel(writer, sheet_name='ZALO_Bán gói', index=False)\n",
        "    # ZALO_MISA2.to_excel(writer, sheet_name='ZALO_MISA', index=False)"
      ],
      "metadata": {
        "id": "9yXIYORvFmZ0"
      },
      "execution_count": null,
      "outputs": []
    },
    {
      "cell_type": "code",
      "source": [],
      "metadata": {
        "id": "oTlicbOffIkI"
      },
      "execution_count": null,
      "outputs": []
    },
    {
      "cell_type": "code",
      "source": [
        "# # lấy số điện thoại KYC và mua các gói từ MOMO,ZALO\n",
        "# # List of your DataFrames and their names\n",
        "# dfs = [dwh, dwh_bhdl]\n",
        "# names = ['dwh', 'dwh_bhdl']\n",
        "\n",
        "# # Columns to select in the output\n",
        "# columns_to_select = [\n",
        "#     'Date',\n",
        "#     'SDT',\n",
        "#     'KYC',\n",
        "#     'Gói cước',\n",
        "#     'Tiền gói - Combo 1 tháng',\n",
        "#     'Tiền gói - Data'\n",
        "# ]\n",
        "\n",
        "# # Columns to filter (check for non-zero values)\n",
        "# columns_to_filter = [\n",
        "#     'Tiền gói - Combo 1 tháng',\n",
        "#     'Tiền gói - Data'\n",
        "# ]\n",
        "\n",
        "# # Initialize an empty list to store filtered DataFrames\n",
        "# filtered_dfs = []\n",
        "\n",
        "# # Loop through each DataFrame\n",
        "# for i, df in enumerate(dfs):\n",
        "#     # Ensure all filter columns exist in the DataFrame\n",
        "#     available_filter_columns = [col for col in columns_to_filter if col in df.columns]\n",
        "\n",
        "#     # Create a condition to filter rows where any of the specified columns is not 0\n",
        "#     condition = False\n",
        "#     for col in available_filter_columns:\n",
        "#         # Convert column to numeric, handling non-numeric values\n",
        "#         df[col] = pd.to_numeric(df[col], errors='coerce').fillna(0)\n",
        "#         condition |= (df[col] != 0)\n",
        "\n",
        "#     # Ensure all select columns exist in the DataFrame\n",
        "#     available_select_columns = [col for col in columns_to_select if col in df.columns]\n",
        "\n",
        "#     # Filter rows and select specified columns\n",
        "#     filtered = df[condition][available_select_columns].copy()\n",
        "\n",
        "#     # Add a 'source' column with the DataFrame name\n",
        "#     filtered['source'] = names[i]\n",
        "\n",
        "#     # Append filtered DataFrame to the list\n",
        "#     filtered_dfs.append(filtered)\n",
        "\n",
        "#     # Print the number of rows found\n",
        "#     print(f\"DataFrame {names[i]}: Found {len(filtered)} rows where any specified column != 0\")\n",
        "\n",
        "# # Combine all filtered DataFrames into one\n",
        "# result_dfmomo = pd.concat(filtered_dfs, ignore_index=True)\n",
        "\n",
        "# # Handle NaN in SDT and KYC\n",
        "# result_dfmomo = result_dfmomo.fillna({'SDT': '', 'KYC': ''})\n",
        "# result_dfmomo = result_dfmomo.groupby([\"Date\",\"Gói cước\"]).sum(numeric_only=True).reset_index()"
      ],
      "metadata": {
        "id": "KSO2Tm-gSVfq"
      },
      "execution_count": null,
      "outputs": []
    },
    {
      "cell_type": "code",
      "source": [],
      "metadata": {
        "id": "Z2P4s6r-SWKB"
      },
      "execution_count": null,
      "outputs": []
    }
  ],
  "metadata": {
    "colab": {
      "provenance": [],
      "authorship_tag": "ABX9TyNA4jJ2Fc4eWR9ZRBv7PcbS",
      "include_colab_link": true
    },
    "kernelspec": {
      "display_name": "Python 3",
      "name": "python3"
    },
    "language_info": {
      "name": "python"
    }
  },
  "nbformat": 4,
  "nbformat_minor": 0
}