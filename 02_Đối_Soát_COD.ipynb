{
  "cells": [
    {
      "cell_type": "markdown",
      "metadata": {
        "id": "view-in-github",
        "colab_type": "text"
      },
      "source": [
        "<a href=\"https://colab.research.google.com/github/tjhung23/MBC/blob/main/02_%C4%90%E1%BB%91i_So%C3%A1t_COD.ipynb\" target=\"_parent\"><img src=\"https://colab.research.google.com/assets/colab-badge.svg\" alt=\"Open In Colab\"/></a>"
      ]
    },
    {
      "cell_type": "code",
      "execution_count": null,
      "metadata": {
        "colab": {
          "base_uri": "https://localhost:8080/"
        },
        "id": "SQUk-F4eA1Nm",
        "outputId": "0e176ab4-8954-410d-b3b9-db512ecd7c02"
      },
      "outputs": [
        {
          "output_type": "stream",
          "name": "stdout",
          "text": [
            "Mounted at /content/drive\n"
          ]
        }
      ],
      "source": [
        "\n",
        "from google.colab import drive\n",
        "drive.mount('/content/drive')\n"
      ]
    },
    {
      "cell_type": "code",
      "source": [
        "!pip install xlsxwriter\n"
      ],
      "metadata": {
        "colab": {
          "base_uri": "https://localhost:8080/"
        },
        "id": "A8bs311oBm2O",
        "outputId": "519a942f-4940-4625-acfd-f26a513db584"
      },
      "execution_count": null,
      "outputs": [
        {
          "output_type": "stream",
          "name": "stdout",
          "text": [
            "Collecting xlsxwriter\n",
            "  Downloading xlsxwriter-3.2.5-py3-none-any.whl.metadata (2.7 kB)\n",
            "Downloading xlsxwriter-3.2.5-py3-none-any.whl (172 kB)\n",
            "\u001b[?25l   \u001b[90m━━━━━━━━━━━━━━━━━━━━━━━━━━━━━━━━━━━━━━━━\u001b[0m \u001b[32m0.0/172.3 kB\u001b[0m \u001b[31m?\u001b[0m eta \u001b[36m-:--:--\u001b[0m\r\u001b[2K   \u001b[91m━━━━━━━━━━━━━━━━━━━━━━━━━━━━\u001b[0m\u001b[91m╸\u001b[0m\u001b[90m━━━━━━━━━━━\u001b[0m \u001b[32m122.9/172.3 kB\u001b[0m \u001b[31m3.4 MB/s\u001b[0m eta \u001b[36m0:00:01\u001b[0m\r\u001b[2K   \u001b[90m━━━━━━━━━━━━━━━━━━━━━━━━━━━━━━━━━━━━━━━━\u001b[0m \u001b[32m172.3/172.3 kB\u001b[0m \u001b[31m3.3 MB/s\u001b[0m eta \u001b[36m0:00:00\u001b[0m\n",
            "\u001b[?25hInstalling collected packages: xlsxwriter\n",
            "Successfully installed xlsxwriter-3.2.5\n"
          ]
        }
      ]
    },
    {
      "cell_type": "code",
      "source": [
        "# lấy báo cáo đối soát cổng thanh toán\n",
        "import glob\n",
        "import os\n",
        "import pandas as pd\n",
        "import numpy as np\n",
        "import csv\n",
        "from datetime import datetime\n",
        "import getpass\n",
        "import pytz\n",
        "import time\n",
        "# --------------------------------------------------------------------------------------------------------------------------\n",
        "# Lấy thời gian bắt đầu\n",
        "start_time = time.time()\n",
        "\n",
        "vn_tz = pytz.timezone('Asia/Ho_Chi_Minh')\n",
        "now = datetime.now(vn_tz)\n",
        "\n",
        "# Tạo timestamp\n",
        "timestamp = now.strftime(\"%Y-%m-%d_%H-%M\")\n",
        "user = getpass.getuser()\n",
        "\n",
        "#---------------------------------------------------------------------------------------------------------------------------\n",
        "xlpath = '/content/drive/My Drive/KeToan_HachToanGiaoDich/CTT/2025/T06/'\n",
        "result = glob.glob(xlpath + \"*.*\")\n",
        "data = pd.DataFrame(columns=['Date', 'Ref', 'Amount', 'Bank'])\n",
        "cuoc_data = 4500\n",
        "cuoc_thoai = 500\n",
        "cuoc_sms = 300\n",
        "BIDV_list = []\n",
        "ONEPAY_list = []\n",
        "VNPAY_list = []\n",
        "TCB_list = []\n",
        "VNPOST_list = []\n",
        "VTPOST_list = []\n",
        "dwh_list = []\n",
        "dwh_bh_list = []\n",
        "#---------------------------------------------------------------------------------------------------------------------------\n",
        "def generate_note(sim_type):\n",
        "    if sim_type in ['e sim', 'esim']:\n",
        "        return '338711 - Esim'\n",
        "    elif sim_type == 'Sim vật lý':\n",
        "        return '338711 - Sim vật lý'\n",
        "    else:\n",
        "        return 'Khác'\n",
        "#---------------------------------------------------------------------------------------------------------------------------\n",
        "for filename in result:\n",
        "  # try:\n",
        "    if filename.endswith((\".xlsx\", \".xls\")):\n",
        "      df = pd.read_excel(filename, dtype=str)\n",
        "#---------------------------------------------------------------------------------------------------------------------------\n",
        "      #DWH_doi soat CTT\n",
        "\n",
        "      if df.columns[0] == 'Mã giao dịch':\n",
        "        WH = df.copy()\n",
        "        dwh = df.copy()\n",
        "        dwh = dwh[dwh['Trạng thái thanh toán'] == 'Thành công']\n",
        "        dwh = dwh[dwh['Cổng thanh toán']!= \"MAIN_ACCOUNT\"]\n",
        "\n",
        "        cols = ['Giá trị đơn', 'Giảm giá', 'Phí thanh toán', 'Tổng tiền', 'Phí cổng thanh toán', 'Giá trị còn lại', 'SL data', 'SL SMS', 'SL Voice', 'Giá Data', 'Giá SMS', 'Giá Voice', 'Giá gói'] ## cột cần cast sang int\n",
        "        dwh[cols] = dwh[cols].apply(pd.to_numeric, errors='coerce').fillna(0).astype(int)\n",
        "        # Tính giá mới cho đơn hàng, Logic của Kế toán\n",
        "        dwh['Giá SMS2'] = dwh['SL SMS'] * cuoc_sms * ((dwh['Loại đơn hàng'] == 'Mua gói cước') & (dwh['Gói cước'] == 'TỰ DO TRẢI NGHIỆM')).astype(int)\n",
        "\n",
        "        dwh['Giá Thoại'] = dwh.apply(lambda row: row['SL Voice'] * cuoc_thoai if row['Loại đơn hàng'] == 'Mua gói cước' and row['Gói cước'] == 'TỰ DO TRẢI NGHIỆM' else row['Giá trị đơn'] if row['Loại đơn hàng'] == 'Mua gói cước' and str(row['Gói cước']).startswith('V') else 0, axis=1)\n",
        "\n",
        "        dwh['Giá Data2'] = dwh.apply(lambda row: row['Tổng tiền'] - row['Giá SMS2'] - row['Giá Thoại'] if row['Loại đơn hàng'] == 'Mua gói cước' and row['Gói cước'] == 'TỰ DO TRẢI NGHIỆM' else row['Tổng tiền'] if row['Loại đơn hàng'] == 'Mua gói cước' and str(row['Gói cước']).startswith('D') else row['Tổng tiền'] if row['Loại đơn hàng'] == 'VOUCHER_DATA' else 0, axis=1)\n",
        "\n",
        "        dwh['Giá combo'] = dwh.apply(lambda row: row['Giá trị đơn'] - row['Giá Thoại'] - row['Giá Data2'] - row['Giá SMS2'] if pd.notnull(row['Giá trị đơn']) and pd.notnull(row['Giá Thoại']) and pd.notnull(row['Giá Data2']) and pd.notnull(row['Giá SMS2']) else 0, axis=1)\n",
        "        dwh['Mã giao dịch'] = dwh['Mã giao dịch'].astype(str).str.strip()\n",
        "        dwh_list.append(dwh) # Bỏ vào Rổ ONEPAY\n",
        "        # # Create SDT_DAT\n",
        "        # SDT_DAT = dwh_bh.drop_duplicates('Mã vận đơn MBC').set_index('Mã vận đơn MBC')['SĐT đặt']\n",
        "\n",
        "        # # Map SDT_DAT to 'SDT đặt' => lấy SDT từ bên báo cáo D2C qua, vì báo cáo CTT là SDT khác witel\n",
        "        # dwh['SDT đặt'] = dwh['Mã đơn hàng'].map(SDT_DAT)\n",
        "\n",
        "        # # Create KYC\n",
        "        # KYC = dwh_bh.drop_duplicates('Mã vận đơn MBC').set_index('Mã vận đơn MBC')['Đã KYC']\n",
        "\n",
        "        # # Map 'KYC' => để biết thuê bao mua có KYC chưa\n",
        "        # dwh['KYC'] = dwh['Mã đơn hàng'].map(KYC)\n",
        "\n",
        "\n",
        "        # # Create 'new' column based on non-NaN values in 'SDT đặt' after mapping\n",
        "        # dwh['new'] = dwh['SDT đặt'].notna().map({True: 'new', False: ''})\n",
        "\n",
        "        # # Apply fillna operations and convert to string\n",
        "        # dwh['SDT đặt'] = dwh['SDT đặt'].fillna(dwh['SĐT khách hàng']).fillna(0).astype(str)\n",
        "\n",
        "        # #Discount => lấy value discount nếu có\n",
        "        # giam_gia = dwh_bh.drop_duplicates('Mã vận đơn MBC').set_index('Mã vận đơn MBC')['Giảm giá']\n",
        "        # dwh['Giảm giá'] = dwh['Mã đơn hàng'].map(giam_gia).fillna(0).astype(int)\n",
        "\n",
        "#---------------------------------------------------------------------------------------------------------------------------\n",
        "      #DWH_BH => báo cáo bán hàng D2C\n",
        "\n",
        "      if df.columns[0] == 'Mã vận đơn MBC':\n",
        "        dwh_bh = df.copy()\n",
        "        # các cột cần cast sang int để tính\n",
        "        cols = ['Giá trị đơn hàng', 'Giảm giá','Phí ship', 'Tổng tiền(đã chia)', 'Tổng tiền(chưa chia)', 'Giá bộ KIT sim trắng cước hòa mạng','Giá call',\n",
        "                'Giá gói','Đã KYC','Tổng data','Giá data','Giảm giá data','Tổng tiền call','Tổng call','Tổng tiền data','Giảm giá call','Tổng SMS','Giá SMS','Giảm giá SMS','Tổng tiền SMS']\n",
        "        dwh_bh[cols] = dwh_bh[cols].apply(pd.to_numeric, errors='coerce').fillna(0).astype(int)\n",
        "        # Tính giá mới cho đơn hàng\n",
        "        dwh_bh['Giá data2'] = dwh_bh['Tổng data'] * cuoc_data * (dwh_bh['Tên gói'] == \"TỰ DO TRẢI NGHIỆM\").astype(int)\n",
        "        dwh_bh['Giá thoại2'] = (dwh_bh['Tổng call']- dwh_bh['Giảm giá call']) * cuoc_thoai * (dwh_bh['Tên gói'] == \"TỰ DO TRẢI NGHIỆM\").astype(int)\n",
        "        dwh_bh['Giá SMS2'] = (dwh_bh['Tổng SMS'] - dwh_bh['Giảm giá SMS']) * cuoc_sms * (dwh_bh['Tên gói'] == \"TỰ DO TRẢI NGHIỆM\").astype(int)\n",
        "        dwh_bh['Chênh lệch'] = (dwh_bh['Giá gói'] - (dwh_bh['Giá data2'] + dwh_bh['Giá thoại2'] + dwh_bh['Giá SMS2'])) * (dwh_bh['Tên gói'] == \"TỰ DO TRẢI NGHIỆM\").astype(int)\n",
        "        dwh_bh['Combo - 1 tháng'] = dwh_bh['Giá gói'] * (dwh_bh['Tên gói']!= \"TỰ DO TRẢI NGHIỆM\").astype(int)\n",
        "        dwh_bh['Giá hòa mạng'] = np.where(dwh_bh['Giá bộ KIT sim trắng cước hòa mạng'] == 0, 0,np.where(dwh_bh['Giá bộ KIT sim trắng cước hòa mạng'] == 20000, 20000, 25000))\n",
        "        dwh_bh['Giá sim'] = dwh_bh['Giá bộ KIT sim trắng cước hòa mạng'] - dwh_bh['Giá hòa mạng']\n",
        "        dwh_bh_list.append(dwh_bh) # bỏ vào rổ\n"
      ],
      "metadata": {
        "id": "XZnMMIvxkAiT"
      },
      "execution_count": null,
      "outputs": []
    },
    {
      "cell_type": "code",
      "source": [
        "# Tạo một Series ánh xạ từ dwh_bh\n",
        "map_muasim = dwh_bh.drop_duplicates('Mã vận đơn MBC').set_index('Mã vận đơn MBC')['Tên gói']\n",
        "\n",
        "# Chỉ cập nhật nếu là \"Mua sim\" và cột Gói cước đang trống\n",
        "mask_muasim = (dwh['Loại đơn hàng'] == 'Mua sim') & (dwh['Gói cước'].isna())\n",
        "\n",
        "# Gán giá trị mới từ mapping\n",
        "dwh.loc[mask_muasim, 'Gói cước'] = dwh.loc[mask_muasim, 'Mã đơn hàng'].map(map_muasim)\n"
      ],
      "metadata": {
        "id": "Wai1IHl2l1yM"
      },
      "execution_count": null,
      "outputs": []
    },
    {
      "cell_type": "code",
      "source": [
        "        # Create SDT_DAT\n",
        "        SDT_DAT = dwh_bh.drop_duplicates('Mã vận đơn MBC').set_index('Mã vận đơn MBC')['SĐT đặt']\n",
        "\n",
        "        # Map SDT_DAT to 'SDT đặt' => lấy SDT từ bên báo cáo D2C qua, vì báo cáo CTT là SDT khác witel\n",
        "        dwh['SDT đặt'] = dwh['Mã đơn hàng'].map(SDT_DAT)\n",
        "\n",
        "        # Create KYC\n",
        "        KYC = dwh_bh.drop_duplicates('Mã vận đơn MBC').set_index('Mã vận đơn MBC')['Đã KYC']\n",
        "\n",
        "        # Map 'KYC' => để biết thuê bao mua có KYC chưa\n",
        "        dwh['KYC'] = dwh['Mã đơn hàng'].map(KYC)\n",
        "\n",
        "\n",
        "        # Create 'new' column based on non-NaN values in 'SDT đặt' after mapping\n",
        "        dwh['new'] = dwh['SDT đặt'].notna().map({True: 'new', False: ''})\n",
        "\n",
        "        # Apply fillna operations and convert to string\n",
        "        dwh['SDT đặt'] = dwh['SDT đặt'].fillna(dwh['SĐT khách hàng']).fillna(0).astype(str)\n",
        "\n",
        "        #Discount => lấy value discount nếu có\n",
        "        giam_gia = dwh_bh.drop_duplicates('Mã vận đơn MBC').set_index('Mã vận đơn MBC')['Giảm giá']\n",
        "        dwh['Giảm giá'] = dwh['Mã đơn hàng'].map(giam_gia).fillna(0).astype(int)\n",
        "\n",
        "if dwh_list:\n",
        "    dwh = pd.concat(dwh_list, ignore_index=True)\n",
        "    dwh = dwh.drop_duplicates(keep='first')  # Loại trùng toàn bộ dòng\n",
        "\n",
        "if dwh_bh_list:\n",
        "    dwh_bh = pd.concat(dwh_bh_list, ignore_index=True)\n",
        "    dwh_bh = dwh_bh.drop_duplicates(keep='first')  # Loại trùng toàn bộ dòng"
      ],
      "metadata": {
        "id": "vOa80L0UONX3"
      },
      "execution_count": null,
      "outputs": []
    },
    {
      "cell_type": "code",
      "source": [
        "# đặt map SDT, KYC, Giảm giá ngòi loop để code nhanh hơn\n",
        "SDT= dwh.drop_duplicates('Mã đơn hàng').set_index('Mã đơn hàng')['SDT đặt']\n",
        "KYC_check = dwh.drop_duplicates('Mã đơn hàng').set_index('Mã đơn hàng')['KYC']\n",
        "giam_gia = dwh.drop_duplicates('Mã đơn hàng').set_index('Mã đơn hàng')['Giảm giá']\n",
        "# Create SDT_DAT\n",
        "SDT_DAT = dwh_bh.drop_duplicates('Mã vận đơn MBC').set_index('Mã vận đơn MBC')['SĐT đặt']\n",
        "\n",
        "# Map SDT_DAT to 'SDT đặt' => lấy SDT từ bên báo cáo D2C qua, vì báo cáo CTT là SDT khác witel\n",
        "dwh['SDT đặt'] = dwh['Mã đơn hàng'].map(SDT_DAT)"
      ],
      "metadata": {
        "id": "Mlex7S6ENhTJ"
      },
      "execution_count": null,
      "outputs": []
    },
    {
      "cell_type": "code",
      "source": [
        "### load cổng thanh toán và map đơn hàng\n",
        "result_bank = glob.glob(xlpath + \"*.*\")\n",
        "#---------------------------------------------------------------------------------------------------------------------------\n",
        "for filename in result_bank:\n",
        "  try:\n",
        "    if filename.endswith((\".xlsx\", \".xls\")):\n",
        "      df = pd.read_excel(filename, dtype=str)\n",
        "\n",
        "# #---------------------------------------------------------------------------------------------------------------------------\n",
        "      if df.columns[0] == 'TỔNG CÔNG TY CỔ PHẦN BƯU CHÍNH VIETTEL':\n",
        "        tmp_VTP = df.copy()\n",
        "        # Tìm index của dòng chứa \"III:KẾT LUẬN ĐỐI SOÁT\"\n",
        "        end_index = tmp_VTP[tmp_VTP.iloc[:, 0].astype(str).str.contains('II:CHI TIẾT TIỀN CƯỚC CHUYỂN PHÁT VÀ PHÍ COD', na=False)].index.min()\n",
        "\n",
        "        # Cắt từ dòng 11 đến dòng trước đó\n",
        "        tmp_VTP = tmp_VTP.iloc[11:end_index, :-3]\n",
        "        tmp_VTP.columns = tmp_VTP.iloc[0]\n",
        "        tmp_VTP = tmp_VTP[1:].reset_index(drop=True)\n",
        "        tmp_VTP = tmp_VTP.dropna(subset=['STT'])\n",
        "        tmp_VTP.loc[:, 'Ngày phát thành công'] = tmp_VTP['Ngày phát thành công'].str.split(' ').str[0].str.replace('/', '-', regex=False)\n",
        "        tmp_VTP.loc[:, 'Ngày nhập máy'] = tmp_VTP['Ngày nhập máy'].str.split(' ').str[0].str.replace('/', '-', regex=False)\n",
        "        tmp_VTP['Số tiền COD'] = pd.to_numeric(tmp_VTP['Số tiền COD'].str.replace(',', '', regex=False), errors='coerce')\n",
        "        # tmp_VTP['Số tiền COD'] = pd.to_numeric(tmp_VTP['Số tiền COD'], errors='coerce')\n",
        "        tmp_VTP['SDT'] = tmp_VTP['Mã tham chiếu'].map(dwh_bh.drop_duplicates('Mã vận đơn MBC').set_index('Mã vận đơn MBC')['SĐT đặt']).fillna('')\n",
        "        tmp_VTP['KYC'] = tmp_VTP['Mã tham chiếu'].map(dwh_bh.drop_duplicates('Mã vận đơn MBC').set_index('Mã vận đơn MBC')['Đã KYC']).fillna('')\n",
        "        tmp_VTP['Giảm giá'] = tmp_VTP['Mã tham chiếu'].map(dwh_bh.drop_duplicates('Mã vận đơn MBC').set_index('Mã vận đơn MBC')['Giảm giá']).fillna(0).astype(int)\n",
        "        tmp_VTP['Gói cước'] = tmp_VTP['Mã tham chiếu'].map(dwh_bh.drop_duplicates('Mã vận đơn MBC').set_index('Mã vận đơn MBC')['Tên gói']).fillna('')\n",
        "        tmp_VTP['Loại đơn hàng'] = tmp_VTP['Mã tham chiếu'].astype(str).str[:2].apply(lambda x: 'Mua sim' if x == 'OD' else 'Đổi sim')\n",
        "        tmp_VTP['Loại sim'] = tmp_VTP['Mã tham chiếu'].map(dwh_bh.drop_duplicates('Mã vận đơn MBC').set_index('Mã vận đơn MBC')['Loại sim']).fillna('0')\n",
        "\n",
        "        tmp_VTP_affiliate = tmp_VTP['Mã tham chiếu'].map(dwh_bh.drop_duplicates('Mã vận đơn MBC').set_index('Mã vận đơn MBC')['Affiliate partner'])\n",
        "        tmp_VTP['Đơn vị'] = np.where(tmp_VTP_affiliate == 'ACCESSTRADE','SALES - Online - ACT','SALES - Online')\n",
        "        tmp_VTP['Tổng tiền thu'] = tmp_VTP['Số tiền COD']\n",
        "\n",
        "        so_luong_sim = dwh_bh['Mã vận đơn MBC'].value_counts()\n",
        "        tmp_VTP['Số lượng sim'] = tmp_VTP['Mã tham chiếu'].map(so_luong_sim).fillna(0).astype(int)\n",
        "\n",
        "        # 1. Chọn các dòng có Phí hòa mạng > 0\n",
        "        mask_hoa_mang = dwh_bh['Giá hòa mạng'] > 0\n",
        "\n",
        "        # 2. Đếm số lần mỗi Mã vận đơn MBC phát sinh Phí hòa mạng\n",
        "        so_luong_hoa_mang = (dwh_bh.loc[mask_hoa_mang, 'Mã vận đơn MBC'].value_counts())\n",
        "\n",
        "        # 3. Map vào tmp_VTP_MISA\n",
        "        tmp_VTP['Số lượng hòa mạng'] = (tmp_VTP['Mã tham chiếu'].map(so_luong_hoa_mang).fillna(0).astype(int))\n",
        "\n",
        "        tong_gia_sim = dwh_bh.groupby('Mã vận đơn MBC')['Giá sim'].sum()\n",
        "        tmp_VTP['Tiền sim trắng'] = np.where(tmp_VTP['Loại đơn hàng'] == \"Đổi sim\",5000,tmp_VTP['Mã tham chiếu'].map(tong_gia_sim).fillna(0))\n",
        "\n",
        "        tong_gia_hoa_mang = dwh_bh.groupby('Mã vận đơn MBC')['Giá hòa mạng'].sum()\n",
        "        tmp_VTP['Phí hòa mạng'] = np.where(tmp_VTP['Loại đơn hàng'] == \"Mua sim\",tmp_VTP['Mã tham chiếu'].map(tong_gia_hoa_mang).fillna(0),0)\n",
        "\n",
        "        tong_gia_thoai = dwh_bh.groupby('Mã vận đơn MBC')['Giá thoại2'].sum()\n",
        "        tmp_VTP['Tiền gói - Thoại'] = np.where(tmp_VTP['Loại đơn hàng'] == \"Mua gói cước\", tmp_VTP['Mã tham chiếu'].map(dwh.drop_duplicates('Mã đơn hàng').set_index('Mã đơn hàng')['Giá Thoại']).fillna(0).astype(int),\n",
        "                                    np.where(tmp_VTP['Loại đơn hàng'] == \"Mua sim\",tmp_VTP['Mã tham chiếu'].map(tong_gia_thoai).fillna(0),0))\n",
        "\n",
        "        tong_gia_sms = dwh_bh.groupby('Mã vận đơn MBC')['Giá SMS2'].sum()\n",
        "        tmp_VTP['Tiền gói - SMS'] = np.where(tmp_VTP['Loại đơn hàng'] == \"Mua gói cước\", tmp_VTP['Mã tham chiếu'].map(dwh.drop_duplicates('Mã đơn hàng').set_index('Mã đơn hàng')['Giá SMS2']).fillna(0).astype(int),\n",
        "                                    np.where(tmp_VTP['Loại đơn hàng'] == \"Mua sim\",tmp_VTP['Mã tham chiếu'].map(tong_gia_sms).fillna(0),0))\n",
        "\n",
        "        tong_gia_data = dwh_bh.groupby('Mã vận đơn MBC')['Giá data2'].sum()\n",
        "\n",
        "        tmp_VTP['Tiền gói - Data'] = np.where(tmp_VTP['Loại đơn hàng'] == \"Mua gói cước\",tmp_VTP['Mã tham chiếu'].map(dwh.drop_duplicates('Mã đơn hàng').set_index('Mã đơn hàng')['Giá Data2']).fillna(0).astype(int),\n",
        "                                    np.where(tmp_VTP['Loại đơn hàng'] == \"Mua sim\",tmp_VTP['Mã tham chiếu'].map(tong_gia_data).fillna(0),\n",
        "                                    np.where(tmp_VTP['Loại đơn hàng'] == \"VOUCHER_DATA\",tmp_VTP['Tổng tiền thu'].fillna(0),0)))\n",
        "\n",
        "        tong_gia_combo = dwh_bh.groupby('Mã vận đơn MBC')['Combo - 1 tháng'].sum()\n",
        "        tmp_VTP['Tiền gói - Combo 1 tháng'] = np.where(tmp_VTP['Loại đơn hàng'] == \"Mua gói cước\", tmp_VTP['Mã tham chiếu'].map(dwh.drop_duplicates('Mã đơn hàng').set_index('Mã đơn hàng')['Giá combo']).fillna(0).astype(int),\n",
        "                                    np.where(tmp_VTP['Loại đơn hàng'] == \"Mua sim\",tmp_VTP['Mã tham chiếu'].map(tong_gia_combo).fillna(0),0))\n",
        "\n",
        "        tmp_VTP['Doanh thu khác'] = np.where(tmp_VTP['Loại đơn hàng'] == \"Đổi sim\",20000,np.where(tmp_VTP['Loại đơn hàng'] == \"Khôi phục số\",tmp_VTP['Tổng tiền thu'],0))\n",
        "\n",
        "        tmp_VTP['Tiền ship'] = np.where(tmp_VTP['Loại đơn hàng'] == \"Đổi sim\",tmp_VTP['Tổng tiền thu'] - tmp_VTP['Tiền sim trắng'] - tmp_VTP['Doanh thu khác'],\n",
        "                                    np.where(tmp_VTP['Loại đơn hàng'] == \"Mua sim\",tmp_VTP['Mã tham chiếu'].map(dwh_bh.drop_duplicates('Mã vận đơn MBC').set_index('Mã vận đơn MBC')['Phí ship']).fillna(0),0))\n",
        "\n",
        "        tmp_VTP['Topup'] = np.where(tmp_VTP['Loại đơn hàng'] == \"Topup\",tmp_VTP['Tổng tiền thu'],0)\n",
        "\n",
        "        tmp_VTP['Voucher'] = np.where(tmp_VTP['Loại đơn hàng'] == \"VOUCHER\",tmp_VTP['Tổng tiền thu'],0)\n",
        "\n",
        "        cols_to_subtract = ['Tiền sim trắng', 'Phí hòa mạng', 'Tiền gói - Thoại', 'Tiền gói - SMS',    'Tiền gói - Data', 'Tiền gói - Combo 1 tháng', 'Doanh thu khác','Tiền ship', 'Topup', 'Voucher']\n",
        "        tmp_VTP['Check'] = tmp_VTP['Tổng tiền thu'] - tmp_VTP[cols_to_subtract].sum(axis=1)\n",
        "        VTPOST_list.append(tmp_VTP) # bỏ vào rổ VTPOST\n",
        "\n",
        "# #---------------------------------------------------------------------------------------------------------------------------\n",
        "\n",
        "      elif df.iloc[0, 0] == 'BẢNG KÊ CƯỚC THU HỘ MOBICAST - VNPOST LOGISTICS':\n",
        "        tmp_VNP = df.copy()\n",
        "        end_index = tmp_VNP[tmp_VNP.iloc[:, 0].astype(str).str.contains('Tổng', na=False)].index.min()\n",
        "        tmp_VNP = tmp_VNP.iloc[3:end_index, :-1]\n",
        "        tmp_VNP.columns = tmp_VNP.iloc[0]\n",
        "        tmp_VNP = tmp_VNP[1:].reset_index(drop=True)\n",
        "        tmp_VNP['Ngày thu tiền'] =tmp_VNP['Ngày thu tiền'].astype(str).str.split(\" \").str[0].str.replace('/', '-', regex=False)\n",
        "        tmp_VNP['Số tiền'] = pd.to_numeric(tmp_VNP['Số tiền'], errors='coerce')\n",
        "        tmp_VNP['SDT'] = tmp_VNP['Số lô/bảng kê'].map(dwh_bh.drop_duplicates('Mã vận đơn MBC').set_index('Mã vận đơn MBC')['SĐT đặt']).fillna('')\n",
        "        tmp_VNP['KYC'] = tmp_VNP['Số lô/bảng kê'].map(dwh_bh.drop_duplicates('Mã vận đơn MBC').set_index('Mã vận đơn MBC')['Đã KYC']).fillna('')\n",
        "        tmp_VNP['Giảm giá'] = tmp_VNP['Số lô/bảng kê'].map(dwh_bh.drop_duplicates('Mã vận đơn MBC').set_index('Mã vận đơn MBC')['Giảm giá']).fillna(0).astype(int)\n",
        "        tmp_VNP['Gói cước'] = tmp_VNP['Số lô/bảng kê'].map(dwh_bh.drop_duplicates('Mã vận đơn MBC').set_index('Mã vận đơn MBC')['Tên gói']).fillna('')\n",
        "        tmp_VNP['Loại đơn hàng'] = tmp_VNP['Số lô/bảng kê'].astype(str).str[:2].apply(lambda x: 'Mua sim' if x == 'OD' else 'Đổi sim')\n",
        "        tmp_VNP['Số tiền'] = pd.to_numeric(tmp_VNP['Số tiền'], errors='coerce')\n",
        "        tmp_VNP['Loại sim'] = tmp_VNP['Số lô/bảng kê'].map(dwh_bh.drop_duplicates('Mã vận đơn MBC').set_index('Mã vận đơn MBC')['Loại sim']).fillna('0')\n",
        "\n",
        "        tmp_VNP_affiliate = tmp_VNP['Số lô/bảng kê'].map(dwh_bh.drop_duplicates('Mã vận đơn MBC').set_index('Mã vận đơn MBC')['Affiliate partner'])\n",
        "        tmp_VNP['Đơn vị'] = np.where(tmp_VNP_affiliate == 'ACCESSTRADE','SALES - Online - ACT','SALES - Online')\n",
        "        tmp_VNP['Tổng tiền thu'] = tmp_VNP['Số tiền']\n",
        "\n",
        "        so_luong_sim = dwh_bh['Mã vận đơn MBC'].value_counts()\n",
        "        tmp_VNP['Số lượng sim'] = tmp_VNP['Số lô/bảng kê'].map(so_luong_sim).fillna(0).astype(int)\n",
        "\n",
        "        # 1. Chọn các dòng có Phí hòa mạng > 0\n",
        "        mask_hoa_mang = dwh_bh['Giá hòa mạng'] > 0\n",
        "\n",
        "        # 2. Đếm số lần mỗi Mã vận đơn MBC phát sinh Phí hòa mạng\n",
        "        so_luong_hoa_mang = (dwh_bh.loc[mask_hoa_mang, 'Mã vận đơn MBC'].value_counts())\n",
        "\n",
        "        # 3. Map vào tmp_VNP_MISA\n",
        "        tmp_VNP['Số lượng hòa mạng'] = (tmp_VNP['Số lô/bảng kê'].map(so_luong_hoa_mang).fillna(0).astype(int))\n",
        "\n",
        "        tong_gia_sim = dwh_bh.groupby('Mã vận đơn MBC')['Giá sim'].sum()\n",
        "        tmp_VNP['Tiền sim trắng'] = np.where(tmp_VNP['Loại đơn hàng'] == \"Đổi sim\",5000,tmp_VNP['Số lô/bảng kê'].map(tong_gia_sim).fillna(0))\n",
        "\n",
        "        tong_gia_hoa_mang = dwh_bh.groupby('Mã vận đơn MBC')['Giá hòa mạng'].sum()\n",
        "        tmp_VNP['Phí hòa mạng'] = np.where(tmp_VNP['Loại đơn hàng'] == \"Mua sim\",tmp_VNP['Số lô/bảng kê'].map(tong_gia_hoa_mang).fillna(0),0)\n",
        "\n",
        "        tong_gia_thoai = dwh_bh.groupby('Mã vận đơn MBC')['Giá thoại2'].sum()\n",
        "        tmp_VNP['Tiền gói - Thoại'] = np.where(tmp_VNP['Loại đơn hàng'] == \"Mua gói cước\", tmp_VNP['Số lô/bảng kê'].map(dwh.drop_duplicates('Mã đơn hàng').set_index('Mã đơn hàng')['Giá Thoại']).fillna(0).astype(int),\n",
        "                                    np.where(tmp_VNP['Loại đơn hàng'] == \"Mua sim\",tmp_VNP['Số lô/bảng kê'].map(tong_gia_thoai).fillna(0),0))\n",
        "\n",
        "        tong_gia_sms = dwh_bh.groupby('Mã vận đơn MBC')['Giá SMS2'].sum()\n",
        "        tmp_VNP['Tiền gói - SMS'] = np.where(tmp_VNP['Loại đơn hàng'] == \"Mua gói cước\", tmp_VNP['Số lô/bảng kê'].map(dwh.drop_duplicates('Mã đơn hàng').set_index('Mã đơn hàng')['Giá SMS2']).fillna(0).astype(int),\n",
        "                                    np.where(tmp_VNP['Loại đơn hàng'] == \"Mua sim\",tmp_VNP['Số lô/bảng kê'].map(tong_gia_sms).fillna(0),0))\n",
        "\n",
        "        tong_gia_data = dwh_bh.groupby('Mã vận đơn MBC')['Giá data2'].sum()\n",
        "\n",
        "        tmp_VNP['Tiền gói - Data'] = np.where(tmp_VNP['Loại đơn hàng'] == \"Mua gói cước\",tmp_VNP['Số lô/bảng kê'].map(dwh.drop_duplicates('Mã đơn hàng').set_index('Mã đơn hàng')['Giá Data2']).fillna(0).astype(int),\n",
        "                                    np.where(tmp_VNP['Loại đơn hàng'] == \"Mua sim\",tmp_VNP['Số lô/bảng kê'].map(tong_gia_data).fillna(0),\n",
        "                                    np.where(tmp_VNP['Loại đơn hàng'] == \"VOUCHER_DATA\",tmp_VNP['Tổng tiền thu'].fillna(0),0)))\n",
        "\n",
        "        tong_gia_combo = dwh_bh.groupby('Mã vận đơn MBC')['Combo - 1 tháng'].sum()\n",
        "        tmp_VNP['Tiền gói - Combo 1 tháng'] = np.where(tmp_VNP['Loại đơn hàng'] == \"Mua gói cước\", tmp_VNP['Số lô/bảng kê'].map(dwh.drop_duplicates('Mã đơn hàng').set_index('Mã đơn hàng')['Giá combo']).fillna(0).astype(int),\n",
        "                                    np.where(tmp_VNP['Loại đơn hàng'] == \"Mua sim\",tmp_VNP['Số lô/bảng kê'].map(tong_gia_combo).fillna(0),0))\n",
        "\n",
        "        tmp_VNP['Doanh thu khác'] = np.where(tmp_VNP['Loại đơn hàng'] == \"Đổi sim\",20000,np.where(tmp_VNP['Loại đơn hàng'] == \"Khôi phục số\",tmp_VNP['Tổng tiền thu'],0))\n",
        "\n",
        "        tmp_VNP['Tiền ship'] = np.where(tmp_VNP['Loại đơn hàng'] == \"Đổi sim\",tmp_VNP['Tổng tiền thu'] - tmp_VNP['Tiền sim trắng'] - tmp_VNP['Doanh thu khác'],\n",
        "                                    np.where(tmp_VNP['Loại đơn hàng'] == \"Mua sim\",tmp_VNP['Số lô/bảng kê'].map(dwh_bh.drop_duplicates('Mã vận đơn MBC').set_index('Mã vận đơn MBC')['Phí ship']).fillna(0),0))\n",
        "\n",
        "        tmp_VNP['Topup'] = np.where(tmp_VNP['Loại đơn hàng'] == \"Topup\",tmp_VNP['Tổng tiền thu'],0)\n",
        "\n",
        "        tmp_VNP['Voucher'] = np.where(tmp_VNP['Loại đơn hàng'] == \"VOUCHER\",tmp_VNP['Tổng tiền thu'],0)\n",
        "\n",
        "        cols_to_subtract = ['Tiền sim trắng', 'Phí hòa mạng', 'Tiền gói - Thoại', 'Tiền gói - SMS',    'Tiền gói - Data', 'Tiền gói - Combo 1 tháng', 'Doanh thu khác','Tiền ship', 'Topup', 'Voucher']\n",
        "        tmp_VNP['Check'] = tmp_VNP['Tổng tiền thu'] - tmp_VNP[cols_to_subtract].sum(axis=1)\n",
        "        VNPOST_list.append(tmp_VNP) # bỏ vào rổ VTPOST\n",
        "\n",
        "  except Exception as e: # Bắt lỗi\n",
        "    print(f\"❌ Lỗi xử lý file: {filename}\") # File bị lỗi\n",
        "    print(f\"Chi tiết lỗi: {e}\") # Tên Lỗi\n",
        "# Concat data các cổng thanh toán\n",
        "\n",
        "\n",
        "if VNPOST_list:\n",
        "    VNPOST = pd.concat(VNPOST_list, ignore_index=True)\n",
        "\n",
        "if VTPOST_list:\n",
        "    VTPOST = pd.concat(VTPOST_list, ignore_index=True)\n",
        "\n"
      ],
      "metadata": {
        "id": "Uyenz0j_RwVN"
      },
      "execution_count": null,
      "outputs": []
    },
    {
      "cell_type": "code",
      "source": [
        "print(VNPOST.shape)\n",
        "print(VTPOST.shape)"
      ],
      "metadata": {
        "id": "KWBORRBi4IkH",
        "colab": {
          "base_uri": "https://localhost:8080/"
        },
        "outputId": "d443a32d-37e5-49ff-cdab-1a03de9980ad"
      },
      "execution_count": null,
      "outputs": [
        {
          "output_type": "stream",
          "name": "stdout",
          "text": [
            "(40, 28)\n",
            "(117, 32)\n"
          ]
        }
      ]
    },
    {
      "cell_type": "code",
      "source": [
        "VNPOST_REC = VNPOST.copy()\n",
        "VNPOST_REC = VNPOST_REC[~(VNPOST_REC['Check'] != 0)]\n",
        "VNPOST_nan = VNPOST.copy()\n",
        "VNPOST_nan = VNPOST_nan[(VNPOST_nan['Check']!= 0)]\n",
        "VNPOST_nan = VNPOST_nan.rename(columns={'Số lô/bảng kê' : 'REF','Ngày thu tiền' : 'Date'})"
      ],
      "metadata": {
        "id": "uHBGFP3QyaHc"
      },
      "execution_count": null,
      "outputs": []
    },
    {
      "cell_type": "code",
      "source": [
        "VTPOST_REC = VTPOST.copy()\n",
        "VTPOST_REC = VTPOST_REC[~(VTPOST_REC['Check'] != 0)]\n",
        "VTPOST_nan = VTPOST.copy()\n",
        "VTPOST_nan = VTPOST_nan[(VTPOST_nan['Check']!= 0)]\n",
        "VTPOST_nan = VTPOST_nan.rename(columns={'Mã tham chiếu' : 'REF','Ngày phát thành công' : 'Date'})"
      ],
      "metadata": {
        "id": "mPRhyHy7ykyA"
      },
      "execution_count": null,
      "outputs": []
    },
    {
      "cell_type": "code",
      "source": [
        "#lấy columns của df cần check lại với IT\n",
        "columns_nan = [ 'Date', 'REF','SDT','KYC', 'Tổng tiền thu', 'Loại đơn hàng', 'Gói cước', 'Loại sim', 'Đơn vị', 'Số lượng sim', 'Số lượng hòa mạng', 'Tiền sim trắng',\n",
        "               'Phí hòa mạng', 'Tiền gói - Thoại', 'Tiền gói - SMS', 'Tiền gói - Data', 'Tiền gói - Combo 1 tháng', 'Doanh thu khác', 'Tiền ship', 'Topup', 'Voucher','Check','Giảm giá','Source']"
      ],
      "metadata": {
        "id": "UgrOm8j7JU6f"
      },
      "execution_count": null,
      "outputs": []
    },
    {
      "cell_type": "code",
      "source": [
        "VNPOST_nan['Source'] = 'VNPOST'\n",
        "VTPOST_nan['Source'] = 'VTPOST'\n",
        "DCHECK = pd.concat([VNPOST_nan,VTPOST_nan], ignore_index=True)\n"
      ],
      "metadata": {
        "id": "sgjFbDOM9z6Q"
      },
      "execution_count": null,
      "outputs": []
    },
    {
      "cell_type": "code",
      "source": [
        "# lấy columns của df đã reconcile\n",
        "columns_misa = [ 'Date','SDT','KYC', 'Tổng tiền thu', 'Loại đơn hàng', 'Gói cước', 'Loại sim', 'Đơn vị', 'Số lượng sim', 'Số lượng hòa mạng',\n",
        " 'Tiền sim trắng', 'Phí hòa mạng', 'Tiền gói - Thoại', 'Tiền gói - SMS', 'Tiền gói - Data', 'Tiền gói - Combo 1 tháng', 'Doanh thu khác', 'Tiền ship', 'Topup', 'Voucher','Source']"
      ],
      "metadata": {
        "id": "7lZgdSbP7WCf"
      },
      "execution_count": null,
      "outputs": []
    },
    {
      "cell_type": "code",
      "source": [
        "## Xử lý gộp df đã reconcile"
      ],
      "metadata": {
        "id": "cfwGAbvk4pxC"
      },
      "execution_count": null,
      "outputs": []
    },
    {
      "cell_type": "code",
      "source": [
        "VNPOST_MISA = VNPOST_REC.copy()\n",
        "VNPOST_MISA['KYC'] = VNPOST_MISA['KYC'].fillna(1)\n",
        "VNPOST_MISA['Source'] = \"VNPOST\"\n",
        "VNPOST_MISA = VNPOST_MISA.rename(columns = {'Ngày thu tiền' : 'Date'})\n",
        "VNPOST_MISA = VNPOST_MISA[columns_misa]\n",
        "VNPOST_MISA_group = VNPOST_MISA.groupby(['Date', 'Gói cước','Đơn vị']).sum(numeric_only=True).reset_index()\n",
        "VNPOST_MISA_group['Số lượng'] = VNPOST_MISA.groupby(['Date', 'Gói cước','Đơn vị']).size().values\n",
        "# VNPOST_MISA_group['Tổng tiền thu'].sum()"
      ],
      "metadata": {
        "id": "sa6bVybsJO8q"
      },
      "execution_count": null,
      "outputs": []
    },
    {
      "cell_type": "code",
      "source": [
        "VTPOST_MISA = VTPOST_REC.copy()\n",
        "VTPOST_MISA['KYC'] = VTPOST_MISA['KYC'].fillna(1)\n",
        "VTPOST_MISA['Source'] = \"VTPOST\"\n",
        "VTPOST_MISA = VTPOST_MISA.rename(columns = {'Ngày phát thành công' : 'Date'})\n",
        "VTPOST_MISA = VTPOST_MISA[columns_misa]\n",
        "VTPOST_MISA_group = VTPOST_MISA.groupby(['Date', 'Gói cước','Đơn vị']).sum(numeric_only=True).reset_index()\n",
        "VTPOST_MISA_group['Số lượng'] = VTPOST_MISA.groupby(['Date', 'Gói cước','Đơn vị']).size().values\n",
        "\n",
        "# VTPOST_MISA_group['Tổng tiền thu'].sum()"
      ],
      "metadata": {
        "id": "GDKAXfjlz7LR"
      },
      "execution_count": null,
      "outputs": []
    },
    {
      "cell_type": "code",
      "source": [
        "# Tính Số lượng sim và hòa mạng\n",
        "df_sim = pd.concat([VNPOST_MISA,VTPOST_MISA], ignore_index=True)\n",
        "df_sim = df_sim[df_sim['Loại sim'].isin(['Esim', 'Sim vật lý', 'E sim'])]\n",
        "df_sim = df_sim.copy()\n",
        "df_sim[\"Loại sim\"] = df_sim[\"Loại sim\"].str.replace(\"E sim\", \"Esim\")\n",
        "\n",
        "df_sim = df_sim[['Date','SDT','Loại sim', 'Đơn vị', 'Số lượng sim', 'Số lượng hòa mạng', 'Tiền sim trắng','Source']]"
      ],
      "metadata": {
        "id": "OcxSOv9aXNqn"
      },
      "execution_count": null,
      "outputs": []
    },
    {
      "cell_type": "code",
      "source": [
        "df_sim_group = (\n",
        "    df_sim\n",
        "    .groupby(['Date', 'Loại sim','Source','Đơn vị'], as_index=False)\n",
        "    .sum(numeric_only=True)  # Chỉ tính tổng các cột số\n",
        ")"
      ],
      "metadata": {
        "id": "X-9UC6stdxOB"
      },
      "execution_count": null,
      "outputs": []
    },
    {
      "cell_type": "code",
      "source": [
        "Sim_melt = pd.melt(\n",
        "    df_sim_group,\n",
        "    id_vars=['Date', 'Loại sim', 'Đơn vị','Source'],  # giữ nguyên các cột này\n",
        "    value_vars=[\"Số lượng sim\",\"Số lượng hòa mạng\", \"Tiền sim trắng\"],\n",
        "    var_name='Type',   # tên cột mới cho loại\n",
        "    value_name='Amount'         # tên cột mới cho giá trị\n",
        ")\n",
        "Sim_melt = Sim_melt[Sim_melt['Amount'] != 0]\n",
        "\n",
        "Sim_melt['Non-VAT'] = np.where(\n",
        "    Sim_melt['Type'].isin([\"Số lượng hòa mạng\",\"Số lượng sim\"]),\n",
        "    np.nan,\n",
        "    Sim_melt['Amount'] / 1.1\n",
        ")\n",
        "Sim_melt['VAT'] = np.where(\n",
        "    Sim_melt['Type'].isin([\"Số lượng hòa mạng\",\"Số lượng sim\"]),\n",
        "    np.nan,\n",
        "    Sim_melt['Amount'] - Sim_melt['Non-VAT']\n",
        ")"
      ],
      "metadata": {
        "id": "lRfwYgpshQOo"
      },
      "execution_count": null,
      "outputs": []
    },
    {
      "cell_type": "code",
      "source": [
        "Sim_melt[\"Tài khoản\"] = np.where(\n",
        "    Sim_melt[\"Type\"] == \"Tiền sim trắng\",\n",
        "    \"338711\",\n",
        "    \"\"\n",
        ")\n"
      ],
      "metadata": {
        "id": "qFWDuo5kkY70"
      },
      "execution_count": null,
      "outputs": []
    },
    {
      "cell_type": "code",
      "source": [
        "VNPOST_MISA_group['Source'] = 'VNPOST'\n",
        "VTPOST_MISA_group['Source'] = 'VTPOST'\n",
        "MISA = pd.concat([VNPOST_MISA_group,VTPOST_MISA_group], ignore_index=True)\n",
        "MISA['Gói cước'] = MISA['Gói cước'].replace('TỰ DO TRẢI NGHIỆM', 'TU DO TRAI NGHIEM')\n",
        "print(MISA.shape)\n",
        "\n"
      ],
      "metadata": {
        "colab": {
          "base_uri": "https://localhost:8080/"
        },
        "id": "iwqyDjHNHrl7",
        "outputId": "63f21ca4-d0c9-47bc-b42d-64fea87c2073"
      },
      "execution_count": null,
      "outputs": [
        {
          "output_type": "stream",
          "name": "stdout",
          "text": [
            "(62, 19)\n"
          ]
        }
      ]
    },
    {
      "cell_type": "code",
      "source": [
        "# check số trước và sau khi gộp\n",
        "MISA['Tổng tiền thu'].sum()-(MISA[['Tiền sim trắng',    'Phí hòa mạng',    'Tiền gói - Thoại',    'Tiền gói - SMS',\n",
        "    'Tiền gói - Data',    'Tiền gói - Combo 1 tháng',    'Doanh thu khác',    'Tiền ship',    'Topup','Voucher']].sum().sum())"
      ],
      "metadata": {
        "colab": {
          "base_uri": "https://localhost:8080/"
        },
        "id": "8l6y5X5REf-i",
        "outputId": "cadc33a5-6996-4f62-f6d3-5a31aab425c1"
      },
      "execution_count": null,
      "outputs": [
        {
          "output_type": "execute_result",
          "data": {
            "text/plain": [
              "np.int64(0)"
            ]
          },
          "metadata": {},
          "execution_count": 22
        }
      ]
    },
    {
      "cell_type": "code",
      "source": [
        "# các cột cần gộp giá trị\n",
        "value_vars = [\n",
        "    'Tổng tiền thu',\n",
        "    'Số lượng sim',\n",
        "    'Số lượng hòa mạng',\n",
        "    'Tiền sim trắng',\n",
        "    'Phí hòa mạng',\n",
        "    'Tiền gói - Thoại',\n",
        "    'Tiền gói - SMS',\n",
        "    'Tiền gói - Data',\n",
        "    'Tiền gói - Combo 1 tháng',\n",
        "    'Doanh thu khác',\n",
        "    'Tiền ship',\n",
        "    'Topup',\n",
        "    'Voucher',\n",
        "]\n",
        "\n",
        "\n",
        "MISA_melt = pd.melt(\n",
        "    MISA,\n",
        "    id_vars=['Date', 'Gói cước', 'Source','Đơn vị','Số lượng'],  # giữ nguyên các cột này\n",
        "    value_vars=value_vars,\n",
        "    var_name='Type',   # tên cột mới cho loại\n",
        "    value_name='Amount'         # tên cột mới cho giá trị\n",
        ")\n"
      ],
      "metadata": {
        "id": "jHbjrK7oCM9q"
      },
      "execution_count": null,
      "outputs": []
    },
    {
      "cell_type": "code",
      "source": [
        "loai_can_dem = ['Tiền gói - Thoại', 'Tiền gói - SMS', 'Tiền gói - Data','Tiền gói - Combo 1 tháng']\n",
        "# Gán lại Số_lượng_giao_dịch: chỉ giữ giá trị nếu Type thuộc nhóm\n",
        "\n",
        "# Ép về str để xử lý đồng bộ\n",
        "MISA_melt['Gói cước'] = MISA_melt['Gói cước'].astype(str)\n",
        "\n",
        "# Clear các giá trị không hợp lệ về NaN\n",
        "MISA_melt.loc[\n",
        "    (MISA_melt['Gói cước'].str.lower() == 'nan') |\n",
        "    (MISA_melt['Gói cước'] == '')|\n",
        "    (MISA_melt['Gói cước'] == ' '),\n",
        "    'Gói cước'\n",
        "] = np.nan\n",
        "\n",
        "MISA_melt['Số lượng'] = np.where(\n",
        "    (MISA_melt['Type'].isin(loai_can_dem)) &\n",
        "    (MISA_melt['Gói cước'].notna()),\n",
        "    MISA_melt['Số lượng'],\n",
        "    np.nan\n",
        ")\n",
        "# loai_goi = ['Tiền gói - Thoại', 'Tiền gói - SMS', 'Tiền gói - Data', 'Tiền gói - Combo 1 tháng']\n",
        "\n",
        "MISA_melt['Gói cước'] = MISA_melt.apply(\n",
        "    lambda row: row['Gói cước'] if row['Type'] in loai_can_dem else \"\",\n",
        "    axis=1\n",
        ")\n"
      ],
      "metadata": {
        "id": "YwZq7tDQDkLE"
      },
      "execution_count": null,
      "outputs": []
    },
    {
      "cell_type": "code",
      "source": [
        "MISA_melt = MISA_melt[(MISA_melt['Amount'].notna()) &(MISA_melt['Amount'] != 0)]\n",
        "MISA_melt = MISA_melt.copy()\n",
        "MISA_melt['Số lượng'] = MISA_melt['Số lượng'].astype(float)\n",
        "\n",
        "\n",
        "# MISA_melt[\"Type\"].unique()"
      ],
      "metadata": {
        "id": "w4AJsLpm7PPw"
      },
      "execution_count": null,
      "outputs": []
    },
    {
      "cell_type": "code",
      "source": [
        "MISA_melt[MISA_melt['Type'].isin(['Số lượng hòa mạng','Tiền sim trắng', 'Phí hòa mạng', 'Tiền gói - Thoại','Tiền gói - SMS', 'Tiền gói - Data', 'Tiền gói - Combo 1 tháng','Doanh thu khác', 'Tiền ship', 'Topup', 'Voucher','Số_lượng_giao_dịch'])]['Amount'].sum()"
      ],
      "metadata": {
        "colab": {
          "base_uri": "https://localhost:8080/"
        },
        "id": "KMY3t_2ZD8i7",
        "outputId": "9336cc40-c98a-4324-ebf6-46bd64d6ae2f"
      },
      "execution_count": null,
      "outputs": [
        {
          "output_type": "execute_result",
          "data": {
            "text/plain": [
              "np.int64(16850655)"
            ]
          },
          "metadata": {},
          "execution_count": 26
        }
      ]
    },
    {
      "cell_type": "code",
      "source": [
        "# Convert sang tài khoản\n",
        "mapping_dict = {\n",
        "    'Phí hòa mạng': '338712',\n",
        "    'Tiền gói - Thoại': '338721',\n",
        "    'Tiền gói - SMS': '338722',\n",
        "    'Tiền gói - Data': '338723',\n",
        "    'Tiền ship': '33875',\n",
        "    'Topup': '3387311',\n",
        "    'Doanh thu khác': '51185',\n",
        "    'Voucher': '51113',\n",
        "    'Tiền gói - Combo 1 tháng': '3387241',\n",
        "}\n"
      ],
      "metadata": {
        "id": "G5MRhstNN4MY"
      },
      "execution_count": null,
      "outputs": []
    },
    {
      "cell_type": "code",
      "source": [
        "# Loại những loại k đưa vào MISA\n",
        "MISA_melt = MISA_melt[~MISA_melt['Type'].isin([\"Tổng tiền thu\",\"Số lượng hòa mạng\",\"Số lượng sim\",\"Tiền sim trắng\"])].copy()\n",
        "# Map tài khoản\n",
        "MISA_melt['Tài khoản'] = MISA_melt['Type'].map(mapping_dict)\n",
        "MISA_melt['Số lượng'] = MISA_melt['Số lượng'].fillna(1)\n"
      ],
      "metadata": {
        "id": "-CcBpgFnON2A"
      },
      "execution_count": null,
      "outputs": []
    },
    {
      "cell_type": "code",
      "source": [
        "MISA_melt[MISA_melt['Type'] == 'Tiền gói - Data'].sort_values(by='Source')"
      ],
      "metadata": {
        "colab": {
          "base_uri": "https://localhost:8080/",
          "height": 143
        },
        "id": "AXBXB4YjQ8dc",
        "outputId": "24358573-22ed-4ae6-9f88-923bf454ece1"
      },
      "execution_count": null,
      "outputs": [
        {
          "output_type": "execute_result",
          "data": {
            "text/plain": [
              "           Date           Gói cước  Source          Đơn vị  Số lượng  \\\n",
              "436  17-06-2025  TU DO TRAI NGHIEM  VNPOST  SALES - Online       1.0   \n",
              "454  21-06-2025  TU DO TRAI NGHIEM  VNPOST  SALES - Online       1.0   \n",
              "492  23-06-2025  TU DO TRAI NGHIEM  VTPOST  SALES - Online       1.0   \n",
              "\n",
              "                Type  Amount Tài khoản  \n",
              "436  Tiền gói - Data   45000    338723  \n",
              "454  Tiền gói - Data   45000    338723  \n",
              "492  Tiền gói - Data   45000    338723  "
            ],
            "text/html": [
              "\n",
              "  <div id=\"df-d8e7a1f0-f36e-4548-a1d6-19b775a0289b\" class=\"colab-df-container\">\n",
              "    <div>\n",
              "<style scoped>\n",
              "    .dataframe tbody tr th:only-of-type {\n",
              "        vertical-align: middle;\n",
              "    }\n",
              "\n",
              "    .dataframe tbody tr th {\n",
              "        vertical-align: top;\n",
              "    }\n",
              "\n",
              "    .dataframe thead th {\n",
              "        text-align: right;\n",
              "    }\n",
              "</style>\n",
              "<table border=\"1\" class=\"dataframe\">\n",
              "  <thead>\n",
              "    <tr style=\"text-align: right;\">\n",
              "      <th></th>\n",
              "      <th>Date</th>\n",
              "      <th>Gói cước</th>\n",
              "      <th>Source</th>\n",
              "      <th>Đơn vị</th>\n",
              "      <th>Số lượng</th>\n",
              "      <th>Type</th>\n",
              "      <th>Amount</th>\n",
              "      <th>Tài khoản</th>\n",
              "    </tr>\n",
              "  </thead>\n",
              "  <tbody>\n",
              "    <tr>\n",
              "      <th>436</th>\n",
              "      <td>17-06-2025</td>\n",
              "      <td>TU DO TRAI NGHIEM</td>\n",
              "      <td>VNPOST</td>\n",
              "      <td>SALES - Online</td>\n",
              "      <td>1.0</td>\n",
              "      <td>Tiền gói - Data</td>\n",
              "      <td>45000</td>\n",
              "      <td>338723</td>\n",
              "    </tr>\n",
              "    <tr>\n",
              "      <th>454</th>\n",
              "      <td>21-06-2025</td>\n",
              "      <td>TU DO TRAI NGHIEM</td>\n",
              "      <td>VNPOST</td>\n",
              "      <td>SALES - Online</td>\n",
              "      <td>1.0</td>\n",
              "      <td>Tiền gói - Data</td>\n",
              "      <td>45000</td>\n",
              "      <td>338723</td>\n",
              "    </tr>\n",
              "    <tr>\n",
              "      <th>492</th>\n",
              "      <td>23-06-2025</td>\n",
              "      <td>TU DO TRAI NGHIEM</td>\n",
              "      <td>VTPOST</td>\n",
              "      <td>SALES - Online</td>\n",
              "      <td>1.0</td>\n",
              "      <td>Tiền gói - Data</td>\n",
              "      <td>45000</td>\n",
              "      <td>338723</td>\n",
              "    </tr>\n",
              "  </tbody>\n",
              "</table>\n",
              "</div>\n",
              "    <div class=\"colab-df-buttons\">\n",
              "\n",
              "  <div class=\"colab-df-container\">\n",
              "    <button class=\"colab-df-convert\" onclick=\"convertToInteractive('df-d8e7a1f0-f36e-4548-a1d6-19b775a0289b')\"\n",
              "            title=\"Convert this dataframe to an interactive table.\"\n",
              "            style=\"display:none;\">\n",
              "\n",
              "  <svg xmlns=\"http://www.w3.org/2000/svg\" height=\"24px\" viewBox=\"0 -960 960 960\">\n",
              "    <path d=\"M120-120v-720h720v720H120Zm60-500h600v-160H180v160Zm220 220h160v-160H400v160Zm0 220h160v-160H400v160ZM180-400h160v-160H180v160Zm440 0h160v-160H620v160ZM180-180h160v-160H180v160Zm440 0h160v-160H620v160Z\"/>\n",
              "  </svg>\n",
              "    </button>\n",
              "\n",
              "  <style>\n",
              "    .colab-df-container {\n",
              "      display:flex;\n",
              "      gap: 12px;\n",
              "    }\n",
              "\n",
              "    .colab-df-convert {\n",
              "      background-color: #E8F0FE;\n",
              "      border: none;\n",
              "      border-radius: 50%;\n",
              "      cursor: pointer;\n",
              "      display: none;\n",
              "      fill: #1967D2;\n",
              "      height: 32px;\n",
              "      padding: 0 0 0 0;\n",
              "      width: 32px;\n",
              "    }\n",
              "\n",
              "    .colab-df-convert:hover {\n",
              "      background-color: #E2EBFA;\n",
              "      box-shadow: 0px 1px 2px rgba(60, 64, 67, 0.3), 0px 1px 3px 1px rgba(60, 64, 67, 0.15);\n",
              "      fill: #174EA6;\n",
              "    }\n",
              "\n",
              "    .colab-df-buttons div {\n",
              "      margin-bottom: 4px;\n",
              "    }\n",
              "\n",
              "    [theme=dark] .colab-df-convert {\n",
              "      background-color: #3B4455;\n",
              "      fill: #D2E3FC;\n",
              "    }\n",
              "\n",
              "    [theme=dark] .colab-df-convert:hover {\n",
              "      background-color: #434B5C;\n",
              "      box-shadow: 0px 1px 3px 1px rgba(0, 0, 0, 0.15);\n",
              "      filter: drop-shadow(0px 1px 2px rgba(0, 0, 0, 0.3));\n",
              "      fill: #FFFFFF;\n",
              "    }\n",
              "  </style>\n",
              "\n",
              "    <script>\n",
              "      const buttonEl =\n",
              "        document.querySelector('#df-d8e7a1f0-f36e-4548-a1d6-19b775a0289b button.colab-df-convert');\n",
              "      buttonEl.style.display =\n",
              "        google.colab.kernel.accessAllowed ? 'block' : 'none';\n",
              "\n",
              "      async function convertToInteractive(key) {\n",
              "        const element = document.querySelector('#df-d8e7a1f0-f36e-4548-a1d6-19b775a0289b');\n",
              "        const dataTable =\n",
              "          await google.colab.kernel.invokeFunction('convertToInteractive',\n",
              "                                                    [key], {});\n",
              "        if (!dataTable) return;\n",
              "\n",
              "        const docLinkHtml = 'Like what you see? Visit the ' +\n",
              "          '<a target=\"_blank\" href=https://colab.research.google.com/notebooks/data_table.ipynb>data table notebook</a>'\n",
              "          + ' to learn more about interactive tables.';\n",
              "        element.innerHTML = '';\n",
              "        dataTable['output_type'] = 'display_data';\n",
              "        await google.colab.output.renderOutput(dataTable, element);\n",
              "        const docLink = document.createElement('div');\n",
              "        docLink.innerHTML = docLinkHtml;\n",
              "        element.appendChild(docLink);\n",
              "      }\n",
              "    </script>\n",
              "  </div>\n",
              "\n",
              "\n",
              "    <div id=\"df-4545888e-3640-4abb-abd1-b7c4517a00d9\">\n",
              "      <button class=\"colab-df-quickchart\" onclick=\"quickchart('df-4545888e-3640-4abb-abd1-b7c4517a00d9')\"\n",
              "                title=\"Suggest charts\"\n",
              "                style=\"display:none;\">\n",
              "\n",
              "<svg xmlns=\"http://www.w3.org/2000/svg\" height=\"24px\"viewBox=\"0 0 24 24\"\n",
              "     width=\"24px\">\n",
              "    <g>\n",
              "        <path d=\"M19 3H5c-1.1 0-2 .9-2 2v14c0 1.1.9 2 2 2h14c1.1 0 2-.9 2-2V5c0-1.1-.9-2-2-2zM9 17H7v-7h2v7zm4 0h-2V7h2v10zm4 0h-2v-4h2v4z\"/>\n",
              "    </g>\n",
              "</svg>\n",
              "      </button>\n",
              "\n",
              "<style>\n",
              "  .colab-df-quickchart {\n",
              "      --bg-color: #E8F0FE;\n",
              "      --fill-color: #1967D2;\n",
              "      --hover-bg-color: #E2EBFA;\n",
              "      --hover-fill-color: #174EA6;\n",
              "      --disabled-fill-color: #AAA;\n",
              "      --disabled-bg-color: #DDD;\n",
              "  }\n",
              "\n",
              "  [theme=dark] .colab-df-quickchart {\n",
              "      --bg-color: #3B4455;\n",
              "      --fill-color: #D2E3FC;\n",
              "      --hover-bg-color: #434B5C;\n",
              "      --hover-fill-color: #FFFFFF;\n",
              "      --disabled-bg-color: #3B4455;\n",
              "      --disabled-fill-color: #666;\n",
              "  }\n",
              "\n",
              "  .colab-df-quickchart {\n",
              "    background-color: var(--bg-color);\n",
              "    border: none;\n",
              "    border-radius: 50%;\n",
              "    cursor: pointer;\n",
              "    display: none;\n",
              "    fill: var(--fill-color);\n",
              "    height: 32px;\n",
              "    padding: 0;\n",
              "    width: 32px;\n",
              "  }\n",
              "\n",
              "  .colab-df-quickchart:hover {\n",
              "    background-color: var(--hover-bg-color);\n",
              "    box-shadow: 0 1px 2px rgba(60, 64, 67, 0.3), 0 1px 3px 1px rgba(60, 64, 67, 0.15);\n",
              "    fill: var(--button-hover-fill-color);\n",
              "  }\n",
              "\n",
              "  .colab-df-quickchart-complete:disabled,\n",
              "  .colab-df-quickchart-complete:disabled:hover {\n",
              "    background-color: var(--disabled-bg-color);\n",
              "    fill: var(--disabled-fill-color);\n",
              "    box-shadow: none;\n",
              "  }\n",
              "\n",
              "  .colab-df-spinner {\n",
              "    border: 2px solid var(--fill-color);\n",
              "    border-color: transparent;\n",
              "    border-bottom-color: var(--fill-color);\n",
              "    animation:\n",
              "      spin 1s steps(1) infinite;\n",
              "  }\n",
              "\n",
              "  @keyframes spin {\n",
              "    0% {\n",
              "      border-color: transparent;\n",
              "      border-bottom-color: var(--fill-color);\n",
              "      border-left-color: var(--fill-color);\n",
              "    }\n",
              "    20% {\n",
              "      border-color: transparent;\n",
              "      border-left-color: var(--fill-color);\n",
              "      border-top-color: var(--fill-color);\n",
              "    }\n",
              "    30% {\n",
              "      border-color: transparent;\n",
              "      border-left-color: var(--fill-color);\n",
              "      border-top-color: var(--fill-color);\n",
              "      border-right-color: var(--fill-color);\n",
              "    }\n",
              "    40% {\n",
              "      border-color: transparent;\n",
              "      border-right-color: var(--fill-color);\n",
              "      border-top-color: var(--fill-color);\n",
              "    }\n",
              "    60% {\n",
              "      border-color: transparent;\n",
              "      border-right-color: var(--fill-color);\n",
              "    }\n",
              "    80% {\n",
              "      border-color: transparent;\n",
              "      border-right-color: var(--fill-color);\n",
              "      border-bottom-color: var(--fill-color);\n",
              "    }\n",
              "    90% {\n",
              "      border-color: transparent;\n",
              "      border-bottom-color: var(--fill-color);\n",
              "    }\n",
              "  }\n",
              "</style>\n",
              "\n",
              "      <script>\n",
              "        async function quickchart(key) {\n",
              "          const quickchartButtonEl =\n",
              "            document.querySelector('#' + key + ' button');\n",
              "          quickchartButtonEl.disabled = true;  // To prevent multiple clicks.\n",
              "          quickchartButtonEl.classList.add('colab-df-spinner');\n",
              "          try {\n",
              "            const charts = await google.colab.kernel.invokeFunction(\n",
              "                'suggestCharts', [key], {});\n",
              "          } catch (error) {\n",
              "            console.error('Error during call to suggestCharts:', error);\n",
              "          }\n",
              "          quickchartButtonEl.classList.remove('colab-df-spinner');\n",
              "          quickchartButtonEl.classList.add('colab-df-quickchart-complete');\n",
              "        }\n",
              "        (() => {\n",
              "          let quickchartButtonEl =\n",
              "            document.querySelector('#df-4545888e-3640-4abb-abd1-b7c4517a00d9 button');\n",
              "          quickchartButtonEl.style.display =\n",
              "            google.colab.kernel.accessAllowed ? 'block' : 'none';\n",
              "        })();\n",
              "      </script>\n",
              "    </div>\n",
              "\n",
              "    </div>\n",
              "  </div>\n"
            ],
            "application/vnd.google.colaboratory.intrinsic+json": {
              "type": "dataframe",
              "repr_error": "0"
            }
          },
          "metadata": {},
          "execution_count": 29
        }
      ]
    },
    {
      "cell_type": "code",
      "source": [
        "# Gộp lại theo ngày, gói, tài khoản, TYpe\n",
        "MISA_melt2 =  (\n",
        "    MISA_melt\n",
        "    .groupby(['Date', 'Gói cước','Source','Đơn vị','Type','Tài khoản'],dropna = False, as_index=False)\n",
        "    .sum(numeric_only=True)  # Chỉ tính tổng các cột số\n",
        ")"
      ],
      "metadata": {
        "id": "wlbhtG-oHQ4F"
      },
      "execution_count": null,
      "outputs": []
    },
    {
      "cell_type": "code",
      "source": [
        "MISA_melt2[MISA_melt2['Type'] == 'Voucher'].sort_values(by='Source')"
      ],
      "metadata": {
        "colab": {
          "base_uri": "https://localhost:8080/",
          "height": 53
        },
        "id": "XHPpLk5IQh2b",
        "outputId": "2d2bae29-6ee5-4f11-b097-037c90dce752"
      },
      "execution_count": null,
      "outputs": [
        {
          "output_type": "execute_result",
          "data": {
            "text/plain": [
              "Empty DataFrame\n",
              "Columns: [Date, Gói cước, Source, Đơn vị, Type, Tài khoản, Số lượng, Amount]\n",
              "Index: []"
            ],
            "text/html": [
              "\n",
              "  <div id=\"df-93a8dc1e-1273-475a-940d-7f480a43083d\" class=\"colab-df-container\">\n",
              "    <div>\n",
              "<style scoped>\n",
              "    .dataframe tbody tr th:only-of-type {\n",
              "        vertical-align: middle;\n",
              "    }\n",
              "\n",
              "    .dataframe tbody tr th {\n",
              "        vertical-align: top;\n",
              "    }\n",
              "\n",
              "    .dataframe thead th {\n",
              "        text-align: right;\n",
              "    }\n",
              "</style>\n",
              "<table border=\"1\" class=\"dataframe\">\n",
              "  <thead>\n",
              "    <tr style=\"text-align: right;\">\n",
              "      <th></th>\n",
              "      <th>Date</th>\n",
              "      <th>Gói cước</th>\n",
              "      <th>Source</th>\n",
              "      <th>Đơn vị</th>\n",
              "      <th>Type</th>\n",
              "      <th>Tài khoản</th>\n",
              "      <th>Số lượng</th>\n",
              "      <th>Amount</th>\n",
              "    </tr>\n",
              "  </thead>\n",
              "  <tbody>\n",
              "  </tbody>\n",
              "</table>\n",
              "</div>\n",
              "    <div class=\"colab-df-buttons\">\n",
              "\n",
              "  <div class=\"colab-df-container\">\n",
              "    <button class=\"colab-df-convert\" onclick=\"convertToInteractive('df-93a8dc1e-1273-475a-940d-7f480a43083d')\"\n",
              "            title=\"Convert this dataframe to an interactive table.\"\n",
              "            style=\"display:none;\">\n",
              "\n",
              "  <svg xmlns=\"http://www.w3.org/2000/svg\" height=\"24px\" viewBox=\"0 -960 960 960\">\n",
              "    <path d=\"M120-120v-720h720v720H120Zm60-500h600v-160H180v160Zm220 220h160v-160H400v160Zm0 220h160v-160H400v160ZM180-400h160v-160H180v160Zm440 0h160v-160H620v160ZM180-180h160v-160H180v160Zm440 0h160v-160H620v160Z\"/>\n",
              "  </svg>\n",
              "    </button>\n",
              "\n",
              "  <style>\n",
              "    .colab-df-container {\n",
              "      display:flex;\n",
              "      gap: 12px;\n",
              "    }\n",
              "\n",
              "    .colab-df-convert {\n",
              "      background-color: #E8F0FE;\n",
              "      border: none;\n",
              "      border-radius: 50%;\n",
              "      cursor: pointer;\n",
              "      display: none;\n",
              "      fill: #1967D2;\n",
              "      height: 32px;\n",
              "      padding: 0 0 0 0;\n",
              "      width: 32px;\n",
              "    }\n",
              "\n",
              "    .colab-df-convert:hover {\n",
              "      background-color: #E2EBFA;\n",
              "      box-shadow: 0px 1px 2px rgba(60, 64, 67, 0.3), 0px 1px 3px 1px rgba(60, 64, 67, 0.15);\n",
              "      fill: #174EA6;\n",
              "    }\n",
              "\n",
              "    .colab-df-buttons div {\n",
              "      margin-bottom: 4px;\n",
              "    }\n",
              "\n",
              "    [theme=dark] .colab-df-convert {\n",
              "      background-color: #3B4455;\n",
              "      fill: #D2E3FC;\n",
              "    }\n",
              "\n",
              "    [theme=dark] .colab-df-convert:hover {\n",
              "      background-color: #434B5C;\n",
              "      box-shadow: 0px 1px 3px 1px rgba(0, 0, 0, 0.15);\n",
              "      filter: drop-shadow(0px 1px 2px rgba(0, 0, 0, 0.3));\n",
              "      fill: #FFFFFF;\n",
              "    }\n",
              "  </style>\n",
              "\n",
              "    <script>\n",
              "      const buttonEl =\n",
              "        document.querySelector('#df-93a8dc1e-1273-475a-940d-7f480a43083d button.colab-df-convert');\n",
              "      buttonEl.style.display =\n",
              "        google.colab.kernel.accessAllowed ? 'block' : 'none';\n",
              "\n",
              "      async function convertToInteractive(key) {\n",
              "        const element = document.querySelector('#df-93a8dc1e-1273-475a-940d-7f480a43083d');\n",
              "        const dataTable =\n",
              "          await google.colab.kernel.invokeFunction('convertToInteractive',\n",
              "                                                    [key], {});\n",
              "        if (!dataTable) return;\n",
              "\n",
              "        const docLinkHtml = 'Like what you see? Visit the ' +\n",
              "          '<a target=\"_blank\" href=https://colab.research.google.com/notebooks/data_table.ipynb>data table notebook</a>'\n",
              "          + ' to learn more about interactive tables.';\n",
              "        element.innerHTML = '';\n",
              "        dataTable['output_type'] = 'display_data';\n",
              "        await google.colab.output.renderOutput(dataTable, element);\n",
              "        const docLink = document.createElement('div');\n",
              "        docLink.innerHTML = docLinkHtml;\n",
              "        element.appendChild(docLink);\n",
              "      }\n",
              "    </script>\n",
              "  </div>\n",
              "\n",
              "\n",
              "    </div>\n",
              "  </div>\n"
            ],
            "application/vnd.google.colaboratory.intrinsic+json": {
              "type": "dataframe",
              "repr_error": "Out of range float values are not JSON compliant: nan"
            }
          },
          "metadata": {},
          "execution_count": 31
        }
      ]
    },
    {
      "cell_type": "code",
      "source": [
        "# loại số lượng count không đúng\n",
        "MISA_melt2['Số lượng'] = np.where(\n",
        "    (MISA_melt2['Gói cước'] == \"TỰ DO TRẢI NGHIỆM\") & (MISA_melt2['Type'] != \"Tiền gói - Data\"),\n",
        "    np.nan,\n",
        "    MISA_melt2['Số lượng']\n",
        ")\n",
        "\n",
        "MISA_melt2['Số lượng'] = MISA_melt2['Số lượng'].replace(0, np.nan)\n"
      ],
      "metadata": {
        "id": "DSAue1E-OBKF"
      },
      "execution_count": null,
      "outputs": []
    },
    {
      "cell_type": "code",
      "source": [
        "#Tính VAT và Non-VAT\n",
        "MISA_melt2['Non-VAT'] = np.where(MISA_melt2['Type'] == \"Voucher\", MISA_melt2['Amount'],\n",
        "                                  MISA_melt2['Amount']/1.1)\n",
        "MISA_melt2['VAT'] = MISA_melt2['Amount'] - MISA_melt2['Non-VAT']\n",
        "MISA_melt2['VAT'] = np.where(MISA_melt2['Type'] == 'Voucher', np.nan, MISA_melt2['VAT'])\n"
      ],
      "metadata": {
        "id": "SFDP1p2zTFpF"
      },
      "execution_count": null,
      "outputs": []
    },
    {
      "cell_type": "code",
      "source": [
        "MISA_melt2[MISA_melt2['Type'] == 'Voucher']"
      ],
      "metadata": {
        "colab": {
          "base_uri": "https://localhost:8080/",
          "height": 53
        },
        "id": "tCkBBo_woWaC",
        "outputId": "e8e39b5c-aa01-4d4d-d898-34b8fd88d55a"
      },
      "execution_count": null,
      "outputs": [
        {
          "output_type": "execute_result",
          "data": {
            "text/plain": [
              "Empty DataFrame\n",
              "Columns: [Date, Gói cước, Source, Đơn vị, Type, Tài khoản, Số lượng, Amount, Non-VAT, VAT]\n",
              "Index: []"
            ],
            "text/html": [
              "\n",
              "  <div id=\"df-3fdd639e-58d2-4e52-a7a5-19e10560af45\" class=\"colab-df-container\">\n",
              "    <div>\n",
              "<style scoped>\n",
              "    .dataframe tbody tr th:only-of-type {\n",
              "        vertical-align: middle;\n",
              "    }\n",
              "\n",
              "    .dataframe tbody tr th {\n",
              "        vertical-align: top;\n",
              "    }\n",
              "\n",
              "    .dataframe thead th {\n",
              "        text-align: right;\n",
              "    }\n",
              "</style>\n",
              "<table border=\"1\" class=\"dataframe\">\n",
              "  <thead>\n",
              "    <tr style=\"text-align: right;\">\n",
              "      <th></th>\n",
              "      <th>Date</th>\n",
              "      <th>Gói cước</th>\n",
              "      <th>Source</th>\n",
              "      <th>Đơn vị</th>\n",
              "      <th>Type</th>\n",
              "      <th>Tài khoản</th>\n",
              "      <th>Số lượng</th>\n",
              "      <th>Amount</th>\n",
              "      <th>Non-VAT</th>\n",
              "      <th>VAT</th>\n",
              "    </tr>\n",
              "  </thead>\n",
              "  <tbody>\n",
              "  </tbody>\n",
              "</table>\n",
              "</div>\n",
              "    <div class=\"colab-df-buttons\">\n",
              "\n",
              "  <div class=\"colab-df-container\">\n",
              "    <button class=\"colab-df-convert\" onclick=\"convertToInteractive('df-3fdd639e-58d2-4e52-a7a5-19e10560af45')\"\n",
              "            title=\"Convert this dataframe to an interactive table.\"\n",
              "            style=\"display:none;\">\n",
              "\n",
              "  <svg xmlns=\"http://www.w3.org/2000/svg\" height=\"24px\" viewBox=\"0 -960 960 960\">\n",
              "    <path d=\"M120-120v-720h720v720H120Zm60-500h600v-160H180v160Zm220 220h160v-160H400v160Zm0 220h160v-160H400v160ZM180-400h160v-160H180v160Zm440 0h160v-160H620v160ZM180-180h160v-160H180v160Zm440 0h160v-160H620v160Z\"/>\n",
              "  </svg>\n",
              "    </button>\n",
              "\n",
              "  <style>\n",
              "    .colab-df-container {\n",
              "      display:flex;\n",
              "      gap: 12px;\n",
              "    }\n",
              "\n",
              "    .colab-df-convert {\n",
              "      background-color: #E8F0FE;\n",
              "      border: none;\n",
              "      border-radius: 50%;\n",
              "      cursor: pointer;\n",
              "      display: none;\n",
              "      fill: #1967D2;\n",
              "      height: 32px;\n",
              "      padding: 0 0 0 0;\n",
              "      width: 32px;\n",
              "    }\n",
              "\n",
              "    .colab-df-convert:hover {\n",
              "      background-color: #E2EBFA;\n",
              "      box-shadow: 0px 1px 2px rgba(60, 64, 67, 0.3), 0px 1px 3px 1px rgba(60, 64, 67, 0.15);\n",
              "      fill: #174EA6;\n",
              "    }\n",
              "\n",
              "    .colab-df-buttons div {\n",
              "      margin-bottom: 4px;\n",
              "    }\n",
              "\n",
              "    [theme=dark] .colab-df-convert {\n",
              "      background-color: #3B4455;\n",
              "      fill: #D2E3FC;\n",
              "    }\n",
              "\n",
              "    [theme=dark] .colab-df-convert:hover {\n",
              "      background-color: #434B5C;\n",
              "      box-shadow: 0px 1px 3px 1px rgba(0, 0, 0, 0.15);\n",
              "      filter: drop-shadow(0px 1px 2px rgba(0, 0, 0, 0.3));\n",
              "      fill: #FFFFFF;\n",
              "    }\n",
              "  </style>\n",
              "\n",
              "    <script>\n",
              "      const buttonEl =\n",
              "        document.querySelector('#df-3fdd639e-58d2-4e52-a7a5-19e10560af45 button.colab-df-convert');\n",
              "      buttonEl.style.display =\n",
              "        google.colab.kernel.accessAllowed ? 'block' : 'none';\n",
              "\n",
              "      async function convertToInteractive(key) {\n",
              "        const element = document.querySelector('#df-3fdd639e-58d2-4e52-a7a5-19e10560af45');\n",
              "        const dataTable =\n",
              "          await google.colab.kernel.invokeFunction('convertToInteractive',\n",
              "                                                    [key], {});\n",
              "        if (!dataTable) return;\n",
              "\n",
              "        const docLinkHtml = 'Like what you see? Visit the ' +\n",
              "          '<a target=\"_blank\" href=https://colab.research.google.com/notebooks/data_table.ipynb>data table notebook</a>'\n",
              "          + ' to learn more about interactive tables.';\n",
              "        element.innerHTML = '';\n",
              "        dataTable['output_type'] = 'display_data';\n",
              "        await google.colab.output.renderOutput(dataTable, element);\n",
              "        const docLink = document.createElement('div');\n",
              "        docLink.innerHTML = docLinkHtml;\n",
              "        element.appendChild(docLink);\n",
              "      }\n",
              "    </script>\n",
              "  </div>\n",
              "\n",
              "\n",
              "    </div>\n",
              "  </div>\n"
            ],
            "application/vnd.google.colaboratory.intrinsic+json": {
              "type": "dataframe",
              "repr_error": "Out of range float values are not JSON compliant: nan"
            }
          },
          "metadata": {},
          "execution_count": 34
        }
      ]
    },
    {
      "cell_type": "code",
      "source": [
        "MISA_Excel = pd.concat([MISA_melt2,Sim_melt], ignore_index=True)"
      ],
      "metadata": {
        "id": "uFhvCMNkm7w5"
      },
      "execution_count": null,
      "outputs": []
    },
    {
      "cell_type": "code",
      "source": [
        "#Generate mã chứng từ\n",
        "MISA_Excel['Số chứng từ'] = (\n",
        "    MISA_Excel['Source'] +\n",
        "    MISA_Excel['Date'].str.split('-').str[2].str[-2:] +\n",
        "    MISA_Excel['Date'].str.split('-').str[1] +\n",
        "    MISA_Excel['Date'].str.split('-').str[0]\n",
        ")\n",
        "\n",
        "# Tạo STT bằng rank (kiểu int)\n",
        "MISA_Excel['STT'] = np.where(\n",
        "    MISA_Excel['Type'] == 'Voucher',\n",
        "    2,\n",
        "    1\n",
        ")\n",
        "\n",
        "\n",
        "# Ghép lại\n",
        "MISA_Excel['Số chứng từ'] = (\n",
        "    MISA_Excel['Số chứng từ'] + \"-\" +\n",
        "    MISA_Excel['STT'].astype(str)\n",
        ")\n",
        "\n"
      ],
      "metadata": {
        "id": "HOPWz3VtcyYQ"
      },
      "execution_count": null,
      "outputs": []
    },
    {
      "cell_type": "code",
      "source": [
        "# Generate diễn giải hạch toán\n",
        "MISA_Excel['Diễn giải'] = 'Bán hàng Khách hàng không lấy hóa đơn - TT qua ' + MISA_Excel['Source'] + ' ngày ' + MISA_Excel['Date'] + '-' + MISA_Excel['Type']\n",
        "MISA_Excel['Mã KH'] = np.where(MISA_Excel['Source'] == 'VTPOST', '000404',np.where(MISA_Excel['Source'] == 'VNPOST', '000455', np.nan))\n",
        "\n",
        "# MISA_Excel['Mã KH'] = MISA_Excel['Source'] + '-KL'\n",
        "MH_mapping = {\n",
        "    'Topup': 'DVVT',\n",
        "    'Phí hòa mạng': 'HM',\n",
        "    'Doanh thu khác': 'DV',\n",
        "    'Tiền ship': 'VC',\n",
        "    'Tiền sim trắng': 'ST',\n",
        "    'Voucher': 'VCPL',\n",
        "}\n",
        "\n",
        "# Danh sách các Type sẽ lấy theo Gói cước\n",
        "goi_cuoc_types = [\n",
        "    'Tiền gói - Thoại',\n",
        "    'Tiền gói - SMS',\n",
        "    'Tiền gói - Data',\n",
        "    'Tiền gói - Combo 1 tháng'\n",
        "]\n",
        "\n",
        "def get_ma_hang(row):\n",
        "    if row['Type'] in MH_mapping:\n",
        "        return MH_mapping[row['Type']]\n",
        "    elif row['Type'] in goi_cuoc_types:\n",
        "        return row['Gói cước']\n",
        "    else:\n",
        "        return ''\n",
        "\n",
        "MISA_Excel['Mã hàng'] = MISA_Excel.apply(get_ma_hang, axis=1)\n"
      ],
      "metadata": {
        "id": "gp7WIroK-fK6"
      },
      "execution_count": null,
      "outputs": []
    },
    {
      "cell_type": "code",
      "source": [
        "# - Lấy template input Misa\n",
        "template = '/content/drive/My Drive/KeToan_HachToanGiaoDich/template/TemplateMISA.xls'\n",
        "df_template = pd.read_excel(template)"
      ],
      "metadata": {
        "id": "sPXupjgLYQC1"
      },
      "execution_count": null,
      "outputs": []
    },
    {
      "cell_type": "code",
      "source": [
        "#Thao tác cho file input misa\n",
        "df_template['Hiển thị trên sổ'] = '0'\n",
        "df_template['Kiêm phiếu xuất kho'] = '0'\n",
        "df_template['Ngày chứng từ (*)'] = MISA_Excel['Date']\n",
        "df_template['TK Tiền/Chi phí/Nợ (*)'] = '1311'\n",
        "df_template['TK Doanh thu/Có (*)'] = MISA_Excel['Tài khoản']\n",
        "df_template['% thuế GTGT'] = '10'\n",
        "df_template['Thành tiền'] = MISA_Excel['Non-VAT']\n",
        "df_template['Tiền thuế GTGT'] = MISA_Excel['VAT']\n",
        "df_template['TK thuế GTGT'] = '33311'\n",
        "df_template['Đơn vị'] = MISA_Excel['Đơn vị']\n",
        "df_template['Mã thống kê'] = \"N\"\n",
        "df_template['Số chứng từ (*)'] = MISA_Excel['Số chứng từ']\n",
        "df_template['Mã hàng (*)'] = MISA_Excel['Mã hàng']\n",
        "df_template['Diễn giải'] = MISA_Excel['Diễn giải']\n",
        "df_template['Mã khách hàng'] = MISA_Excel['Mã KH']\n",
        "df_template['% thuế GTGT'] = np.where(df_template['Mã hàng (*)'] == 'VCPL',np.nan,df_template['% thuế GTGT'])\n",
        "df_template['TK thuế GTGT'] = np.where(df_template['Mã hàng (*)'] == 'VCPL',np.nan,df_template['TK thuế GTGT'])\n",
        "\n",
        "df_template = df_template[~df_template['Diễn giải'].str.contains('Số lượng')]"
      ],
      "metadata": {
        "id": "wAu36MNMZdo2"
      },
      "execution_count": null,
      "outputs": []
    },
    {
      "cell_type": "code",
      "source": [
        "df_template.info()"
      ],
      "metadata": {
        "id": "hRBwn-Ll-T8B",
        "colab": {
          "base_uri": "https://localhost:8080/"
        },
        "outputId": "0d196b7b-6578-46ed-d415-a54a2cb282a5"
      },
      "execution_count": null,
      "outputs": [
        {
          "output_type": "stream",
          "name": "stdout",
          "text": [
            "<class 'pandas.core.frame.DataFrame'>\n",
            "Index: 122 entries, 0 to 161\n",
            "Data columns (total 57 columns):\n",
            " #   Column                                              Non-Null Count  Dtype  \n",
            "---  ------                                              --------------  -----  \n",
            " 0   Hiển thị trên sổ                                    0 non-null      object \n",
            " 1   Hình thức bán hàng                                  0 non-null      object \n",
            " 2   Phương thức thanh toán                              0 non-null      object \n",
            " 3   Kiêm phiếu xuất kho                                 0 non-null      object \n",
            " 4   XK vào khu phi thuế quan và các TH được coi như XK  0 non-null      object \n",
            " 5   Lập kèm hóa đơn                                     0 non-null      object \n",
            " 6   Đã lập hóa đơn                                      0 non-null      object \n",
            " 7   Ngày hạch toán (*)                                  0 non-null      object \n",
            " 8   Ngày chứng từ (*)                                   122 non-null    object \n",
            " 9   Số chứng từ (*)                                     122 non-null    object \n",
            " 10  Số phiếu xuất                                       0 non-null      object \n",
            " 11  Lý do xuất                                          0 non-null      object \n",
            " 12  Mẫu số HĐ                                           0 non-null      object \n",
            " 13  Ký hiệu HĐ                                          0 non-null      object \n",
            " 14  Số hóa đơn                                          0 non-null      object \n",
            " 15  Ngày hóa đơn                                        0 non-null      object \n",
            " 16  Mã khách hàng                                       122 non-null    object \n",
            " 17  Tên khách hàng                                      0 non-null      object \n",
            " 18  Địa chỉ                                             0 non-null      object \n",
            " 19  Mã số thuế                                          0 non-null      object \n",
            " 20  Diễn giải                                           122 non-null    object \n",
            " 21  Nộp vào TK                                          0 non-null      object \n",
            " 22  NV bán hàng                                         0 non-null      object \n",
            " 23  Loại tiền                                           0 non-null      object \n",
            " 24  Tỷ giá                                              0 non-null      object \n",
            " 25  Mã hàng (*)                                         122 non-null    object \n",
            " 26  Tên hàng                                            0 non-null      object \n",
            " 27  Hàng khuyến mại                                     0 non-null      object \n",
            " 28  TK Tiền/Chi phí/Nợ (*)                              122 non-null    object \n",
            " 29  TK Doanh thu/Có (*)                                 122 non-null    object \n",
            " 30  ĐVT                                                 0 non-null      object \n",
            " 31  Số lượng                                            0 non-null      object \n",
            " 32  Đơn giá sau thuế                                    0 non-null      object \n",
            " 33  Đơn giá                                             0 non-null      object \n",
            " 34  Thành tiền                                          122 non-null    float64\n",
            " 35  Thành tiền quy đổi                                  0 non-null      object \n",
            " 36  Tỷ lệ CK (%)                                        0 non-null      object \n",
            " 37  Tiền chiết khấu                                     0 non-null      object \n",
            " 38  Tiền chiết khấu quy đổi                             0 non-null      object \n",
            " 39  TK chiết khấu                                       0 non-null      object \n",
            " 40  Giá tính thuế XK                                    0 non-null      object \n",
            " 41  % thuế XK                                           0 non-null      object \n",
            " 42  Tiền thuế XK                                        0 non-null      object \n",
            " 43  TK thuế XK                                          0 non-null      object \n",
            " 44  % thuế GTGT                                         122 non-null    object \n",
            " 45  Tiền thuế GTGT                                      122 non-null    float64\n",
            " 46  Tiền thuế GTGT quy đổi                              0 non-null      object \n",
            " 47  TK thuế GTGT                                        122 non-null    object \n",
            " 48  HH không TH trên tờ khai thuế GTGT                  0 non-null      object \n",
            " 49  Kho                                                 0 non-null      object \n",
            " 50  TK giá vốn                                          0 non-null      object \n",
            " 51  TK Kho                                              0 non-null      object \n",
            " 52  Đơn giá vốn                                         0 non-null      object \n",
            " 53  Tiền vốn                                            0 non-null      object \n",
            " 54  Hàng hóa giữ hộ/bán hộ                              0 non-null      object \n",
            " 55  Đơn vị                                              122 non-null    object \n",
            " 56  Mã thống kê                                         122 non-null    object \n",
            "dtypes: float64(2), object(55)\n",
            "memory usage: 55.3+ KB\n"
          ]
        }
      ]
    },
    {
      "cell_type": "code",
      "source": [
        "# Xuất file input Misa\n",
        "df_template.to_excel('/content/drive/My Drive/Hung/test/COD_misa.xlsx', index=False)\n"
      ],
      "metadata": {
        "id": "XxUMN11gY1_U"
      },
      "execution_count": null,
      "outputs": []
    },
    {
      "cell_type": "code",
      "source": [
        "Summary = MISA_Excel.copy()"
      ],
      "metadata": {
        "id": "p6SRxq0484_j"
      },
      "execution_count": null,
      "outputs": []
    },
    {
      "cell_type": "code",
      "source": [
        "Summary = Summary.iloc[:, :12]\n"
      ],
      "metadata": {
        "id": "NSBEJl_y81lc"
      },
      "execution_count": null,
      "outputs": []
    },
    {
      "cell_type": "code",
      "source": [
        "# Tạo File Excel tổng hợp từ báo cáo và CTT để check lại số liệu\n",
        "with pd.ExcelWriter(f'/content/drive/My Drive/Hung/test/Doi Soat COD - {timestamp}.xlsx', engine='xlsxwriter') as writer:\n",
        "    VNPOST.to_excel(writer, sheet_name='VNPOST', index=False)\n",
        "    VTPOST.to_excel(writer, sheet_name='VTPOST', index=False)\n",
        "    dwh.to_excel(writer, sheet_name='BC Cổng thanh toán', index=False)\n",
        "    dwh_bh.to_excel(writer, sheet_name='BC Tổng hợp bán hàng', index=False)\n",
        "    DCHECK.to_excel(writer, sheet_name='Check lại', index=False)\n",
        "    Summary.to_excel(writer, sheet_name='Tổng hợp', index=False)"
      ],
      "metadata": {
        "id": "C1DRs7wtJnHb"
      },
      "execution_count": null,
      "outputs": []
    },
    {
      "cell_type": "code",
      "source": [
        "# Tính thời gian chạy\n",
        "elapsed_time = time.time() - start_time\n",
        "print(f\"Thời gian chạy: {elapsed_time:.2f} giây\")"
      ],
      "metadata": {
        "id": "ONTClxHDq_QI",
        "colab": {
          "base_uri": "https://localhost:8080/"
        },
        "outputId": "d519ec7b-1fe7-4b16-e142-58d015a3ac39"
      },
      "execution_count": null,
      "outputs": [
        {
          "output_type": "stream",
          "name": "stdout",
          "text": [
            "Thời gian chạy: 262.25 giây\n"
          ]
        }
      ]
    },
    {
      "cell_type": "code",
      "source": [],
      "metadata": {
        "id": "Nb6idPAgnsCG"
      },
      "execution_count": null,
      "outputs": []
    }
  ],
  "metadata": {
    "colab": {
      "provenance": [],
      "authorship_tag": "ABX9TyP5Hl69ytoaEuMM0mWN5f4M",
      "include_colab_link": true
    },
    "kernelspec": {
      "display_name": "Python 3",
      "name": "python3"
    },
    "language_info": {
      "name": "python"
    }
  },
  "nbformat": 4,
  "nbformat_minor": 0
}